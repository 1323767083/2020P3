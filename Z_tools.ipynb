{
 "cells": [
  {
   "cell_type": "code",
   "execution_count": null,
   "metadata": {},
   "outputs": [],
   "source": [
    "import re,os\n",
    "import config as sc\n",
    "\n",
    "def remove_weight_fns(system_name, remove_till_TN_I):\n",
    "    model_dir = os.path.join(sc.base_dir_RL_system, system_name,\"model\")\n",
    "    #dir=\"/home/rdchujf/n_workspace/RL/nr_b_noshift_NB5_JS_NFB_Deep_lrIncrease_10policy_32_try2/model\"\n",
    "    #fn=\" weight_0114_0733_T311250.h5\"\n",
    "\n",
    "    regex = r'\\w*_\\d{4}_\\d{4}_T(\\d*).h5'\n",
    "    for fn in os.listdir(model_dir):\n",
    "       match = re.search(regex, fn)\n",
    "       if match:   \n",
    "           if int(re.findall(regex, fn)[0])<=100000:\n",
    "                print (\"remove \",fn)\n",
    "                os.remove(os.path.join(model_dir,fn))\n",
    "           else:\n",
    "                print (\"skip \",fn)"
   ]
  },
  {
   "cell_type": "code",
   "execution_count": 4,
   "metadata": {},
   "outputs": [
    {
     "name": "stdout",
     "output_type": "stream",
     "text": [
      "| system_name| agent_method_sv| agent_method_joint_lvsv| l_kernel_l| l_filter_l| l_maxpool_l| s_kernel_l| s_filter_l| s_maxpool_l \n",
      "| ----| ----| ----| ----| ----| ----| ----| ----| ---- \n",
      "| nr_b_noshift_NB5_JS_NFB_Deep_lrIncrease_10policy| CNN2D| CNN2D| [3, 3, 3]| [128, 256, 512]| [0, 0, 2]| [3, 3, 3, 3]| [64, 128, 256, 512]| [0, 0, 0, 2] \n",
      "| nr_b_noshift_NB5_JS_NFB_Deep_lrIncrease_10policy_2| CNN2D| CNN2D| [3, 3, 3]| [128, 256, 512]| [0, 0, 2]| [3, 3, 3, 3]| [64, 128, 256, 512]| [0, 0, 0, 2] \n",
      "| nr_b_noshift_NB5_JS_NFB_Deep_lrIncrease_10policy_3| CNN2D| CNN2D| [3, 3, 3]| [128, 256, 512]| [0, 0, 2]| [3, 3, 3, 3]| [64, 128, 256, 512]| [0, 0, 0, 2] \n",
      "| nr_b_noshift_NB5_JS_NFB_Deep_lrIncrease_10policy_32| CNN2D| CNN2D| [3, 3, 3]| [128, 256, 512]| [0, 0, 2]| [3, 3, 3, 3]| [64, 128, 256, 512]| [0, 0, 0, 2] \n",
      "| nr_b_noshift_NB5_JS_NFB_Deep_lrIncrease_10policy_32_2Eval| CNN2D| CNN2D| [3, 3, 3]| [128, 256, 512]| [0, 0, 2]| [3, 3, 3, 3]| [64, 128, 256, 512]| [0, 0, 0, 2] \n",
      "| nr_b_noshift_NB5_JS_NFB_Deep_lrIncrease_10policy_32_try2| CNN2D| CNN2D| [3, 3, 3]| [128, 256, 512]| [0, 0, 0]| [3, 3, 3, 3]| [64, 128, 256, 512]| [0, 0, 0, 0] \n",
      "| try41| CNN2Dvalid| CNN2Dvalid| [5, 5, 5]| [256, 512, 1024]| [0, 0, 0]| [5, 5, 5, 5]| [256, 512, 1024, 2048]| [0, 0, 0, 0] \n",
      "| try41-lr0001-cov3| CNN2Dvalid| CNN2Dvalid| [3, 3, 3, 3, 3, 3]| [256, 256, 512, 512, 1024, 1024]| [0, 0, 0, 0, 0, 0]| [3, 3, 3, 3, 3, 3, 3, 3]| [256, 256, 512, 512, 1024, 1024, 2048, 2048]| [0, 0, 0, 0, 0, 0, 0, 0] \n",
      "| try41-lr001| CNN2Dvalid| CNN2Dvalid| [5, 5, 5]| [256, 512, 1024]| [0, 0, 0]| [5, 5, 5, 5]| [256, 512, 1024, 2048]| [0, 0, 0, 0] \n",
      "| try41-lr001-cov3| CNN2Dvalid| CNN2Dvalid| [3, 3, 3, 3, 3, 3]| [256, 256, 512, 512, 1024, 1024]| [0, 0, 0, 0, 0, 0]| [3, 3, 3, 3, 3, 3, 3, 3]| [256, 256, 512, 512, 1024, 1024, 2048, 2048]| [0, 0, 0, 0, 0, 0, 0, 0] \n",
      "| try41E2| CNN2Dvalid| CNN2Dvalid| [5, 5, 5]| [256, 512, 1024]| [0, 0, 0]| [5, 5, 5, 5]| [256, 512, 1024, 2048]| [0, 0, 0, 0] \n",
      "| try42| CNN2Dvalid| CNN2Dvalid| [5, 5, 5, 3]| [256, 512, 1024, 2048]| [0, 0, 0, 0]| [5, 5, 5, 5, 3]| [126, 256, 512, 1024, 2048]| [0, 0, 0, 0, 0] \n",
      "| try42-lr0001-cov3| CNN2Dvalid| CNN2Dvalid| [3, 3, 3, 3, 3, 3, 3]| [256, 256, 512, 512, 1024, 1024, 2048]| [0, 0, 0, 0, 0, 0, 0]| [3, 3, 3, 3, 3, 3, 3, 3, 3]| [126, 126, 256, 256, 512, 512, 1024, 1024, 2048]| [0, 0, 0, 0, 0, 0, 0, 0, 0] \n",
      "| try42-lr001| CNN2Dvalid| CNN2Dvalid| [5, 5, 5, 3]| [256, 512, 1024, 2048]| [0, 0, 0, 0]| [5, 5, 5, 5, 3]| [126, 256, 512, 1024, 2048]| [0, 0, 0, 0, 0] \n",
      "| try42-lr001-cov3| CNN2Dvalid| CNN2Dvalid| [3, 3, 3, 3, 3, 3, 3]| [256, 256, 512, 512, 1024, 1024, 2048]| [0, 0, 0, 0, 0, 0, 0]| [3, 3, 3, 3, 3, 3, 3, 3, 3]| [126, 126, 256, 256, 512, 512, 1024, 1024, 2048]| [0, 0, 0, 0, 0, 0, 0, 0, 0] \n",
      "| try42E2| CNN2Dvalid| CNN2Dvalid| [5, 5, 5, 3]| [256, 512, 1024, 2048]| [0, 0, 0, 0]| [5, 5, 5, 5, 3]| [126, 256, 512, 1024, 2048]| [0, 0, 0, 0, 0] \n"
     ]
    }
   ],
   "source": [
    "import os,json\n",
    "import config as sc\n",
    "from collections import OrderedDict\n",
    "\n",
    "def get_params(system_name,l_titles ):\n",
    "    param_fnwp = os.path.join(sc.base_dir_RL_system, system_name, \"config.json\")\n",
    "    if not os.path.exists(param_fnwp):\n",
    "        raise ValueError(\"{0} does not exisit\".format(param_fnwp))\n",
    "    param = json.load(open(param_fnwp, \"r\"), object_pairs_hook=OrderedDict)\n",
    "    #lc = sc.gconfig()\n",
    "    #lc.read_from_json(param_fnwp)\n",
    "    results=[]\n",
    "    for titles in l_titles:\n",
    "        if len(titles)==1:\n",
    "            results.append(param[titles[0]])\n",
    "        elif len(titles)==2:\n",
    "            #print (param[titles[0]])\n",
    "            results.append(param[titles[0]][titles[1]])\n",
    "        else:\n",
    "            assert False,\"can not handle three level {0}\".format(titles)\n",
    "    return results\n",
    "\n",
    "#to_get_titles=[[\"Brain_leanring_rate\"],[\"batch_size\"],[\"num_train_to_save_model\"]]\n",
    "to_get_titles=[[\"agent_method_sv\"],[\"agent_method_joint_lvsv\"],\n",
    "[\"net_config\",\"l_kernel_l\"],[\"net_config\",\"l_filter_l\"],[\"net_config\",\"l_maxpool_l\"],\n",
    "[\"net_config\",\"s_kernel_l\"],[\"net_config\",\"s_filter_l\"],[\"net_config\",\"s_maxpool_l\"]]\n",
    "\n",
    "for title in [[\"system_name\"]]+to_get_titles:\n",
    "    print (\"| {0}\".format(title[0] if len(title)==1 else title[1]), end='')\n",
    "else:\n",
    "    print (\" \", end='\\n')\n",
    "for title in [[\"system_name\"]]+to_get_titles: \n",
    "    print (\"| ----\", end='')\n",
    "else:\n",
    "    print (\" \", end='\\n')\n",
    "l_system_name=os.listdir(sc.base_dir_RL_system)\n",
    "l_system_name.sort()\n",
    "for system_name in l_system_name :\n",
    "    \n",
    "    one_row=get_params(system_name,to_get_titles)\n",
    "    print (\"| {0}\".format(system_name), end='')\n",
    "    for item in one_row:\n",
    "        print (\"| {0}\".format(item), end='')\n",
    "    else:\n",
    "        print (\" \", end='\\n')\n",
    "        "
   ]
  },
  {
   "cell_type": "code",
   "execution_count": null,
   "metadata": {},
   "outputs": [],
   "source": [
    "tensorboard中的histogram图表中的数据如何导出呢？\n",
    "https://www.zhihu.com/question/65248128\n",
    "    \n",
    "Can I export a tensorflow summary to CSV?\n",
    "https://stackoverflow.com/questions/42355122/can-i-export-a-tensorflow-summar"
   ]
  },
  {
   "cell_type": "code",
   "execution_count": 3,
   "metadata": {},
   "outputs": [
    {
     "name": "stdout",
     "output_type": "stream",
     "text": [
      "Help on built-in function print in module builtins:\n",
      "\n",
      "print(...)\n",
      "    print(value, ..., sep=' ', end='\\n', file=sys.stdout, flush=False)\n",
      "    \n",
      "    Prints the values to a stream, or to sys.stdout by default.\n",
      "    Optional keyword arguments:\n",
      "    file:  a file-like object (stream); defaults to the current sys.stdout.\n",
      "    sep:   string inserted between values, default a space.\n",
      "    end:   string appended after the last value, default a newline.\n",
      "    flush: whether to forcibly flush the stream.\n",
      "\n"
     ]
    }
   ],
   "source": [
    "#how to save plot\n",
    "import matplotlib.pyplot as plt\n",
    "fig, ax = plt.subplots( nrows=1, ncols=1 )  # create figure & 1 axis\n",
    "ax.plot([0,1,2], [10,20,3])\n",
    "fig.savefig('path/to/save/image/to.png')   # save the figure to file\n",
    "plt.close(fig)    # close the figure window"
   ]
  }
 ],
 "metadata": {
  "kernelspec": {
   "display_name": "Python 3",
   "language": "python",
   "name": "python3"
  }
 },
 "nbformat": 4,
 "nbformat_minor": 4
}
