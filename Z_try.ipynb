{
 "cells": [
  {
   "cell_type": "code",
   "execution_count": null,
   "metadata": {},
   "outputs": [],
   "source": [
    "import re,os\n",
    "import config as sc\n",
    "\n",
    "def remove_weight_fns(system_name, remove_till_TN_I):\n",
    "    model_dir = os.path.join(sc.base_dir_RL_system, system_name,\"model\")\n",
    "    #dir=\"/home/rdchujf/n_workspace/RL/nr_b_noshift_NB5_JS_NFB_Deep_lrIncrease_10policy_32_try2/model\"\n",
    "    #fn=\" weight_0114_0733_T311250.h5\"\n",
    "\n",
    "    regex = r'\\w*_\\d{4}_\\d{4}_T(\\d*).h5'\n",
    "    for fn in os.listdir(model_dir):\n",
    "       match = re.search(regex, fn)\n",
    "       if match:   \n",
    "           if int(re.findall(regex, fn)[0])<=100000:\n",
    "                print (\"remove \",fn)\n",
    "                os.remove(os.path.join(model_dir,fn))\n",
    "           else:\n",
    "                print (\"skip \",fn)"
   ]
  },
  {
   "cell_type": "code",
   "execution_count": 1,
   "metadata": {},
   "outputs": [
    {
     "data": {
      "text/plain": [
       "<tf.Tensor: shape=(3,), dtype=float64, numpy=array([0., 0., 0.])>"
      ]
     },
     "execution_count": 1,
     "metadata": {},
     "output_type": "execute_result"
    }
   ],
   "source": [
    "import tensorflow as tf\n",
    "#import tensorflow.keras as keras\n",
    "#input_oldAP = keras.Input(shape=(1,), dtype='float32', name='input_oldAP')\n",
    "#prob_ratio = tf.reduce_sum(prob * input_a, axis=-1, keepdims=True) / (oldAP+1e-10)\n",
    "\n",
    "\n",
    "b=tf.constant([4,3,2],tf.float64)\n",
    "c=tf.constant([2,2,2],tf.float64)\n",
    "b/c"
   ]
  },
  {
   "cell_type": "code",
   "execution_count": 3,
   "metadata": {
    "pycharm": {
     "is_executing": false,
     "name": "#%%\n"
    }
   },
   "outputs": [
    {
     "data": {
      "text/plain": [
       "<tf.Tensor: shape=(3,), dtype=float64, numpy=array([1.27319747e-313, 2.00000000e+000, 2.00000000e+000])>"
      ]
     },
     "execution_count": 3,
     "metadata": {},
     "output_type": "execute_result"
    }
   ],
   "source": [
    "x = tf.constant([16, 12, 11])\n",
    "y = tf.constant([4, 6, 2])\n",
    "tf.divide(x,y)"
   ]
  },
  {
   "cell_type": "code",
   "execution_count": null,
   "metadata": {
    "pycharm": {
     "is_executing": false,
     "name": "#%%\n"
    }
   },
   "outputs": [],
   "source": [
    "tf.__version__"
   ]
  },
  {
   "cell_type": "code",
   "execution_count": null,
   "metadata": {
    "pycharm": {
     "is_executing": false,
     "name": "#%%\n"
    }
   },
   "outputs": [],
   "source": [
    "import pandas as pd\n",
    "import os,re\n",
    "import config as sc\n",
    "\n",
    "system_name=\"Buy300_2C_CC\"\n",
    "dnwp=os.path.join(sc.base_dir_RL_system,system_name,\"CC\")\n",
    "x=[int(re.findall(r'ET(\\d+).csv',fn)[0]) for fn in os.listdir(dnwp)]\n",
    "x.sort()\n",
    "acc_earn=[]\n",
    "for ET in x:\n",
    "    fnwp=os.path.join(dnwp,\"ET{0}.csv\".format(ET))\n",
    "    print (fnwp)\n",
    "    df=pd.read_csv(fnwp)\n",
    "    df[\"StockS\"]=df[\"StockI\"].apply(lambda x: \"SH{0:06d}\".format(int(x)) if x>=600000 else \"SZ{0:06d}\".format(int(x)))\n",
    "\n",
    "    dfr=df[[\"StockS\",\"Sell_Earn\"]].groupby([\"StockS\"]).agg(totalEarn=pd.NamedAgg(column=\"Sell_Earn\", aggfunc=\"sum\"))\n",
    "    acc_earn.append(dfr[\"totalEarn\"].sum())\n",
    "\n",
    "%matplotlib inline\n",
    "import matplotlib\n",
    "import matplotlib.pyplot as plt\n",
    "plt.rcParams[\"figure.figsize\"] = (20,10)\n",
    "\n",
    "plt.plot(x,acc_earn)\n"
   ]
  },
  {
   "cell_type": "code",
   "execution_count": null,
   "metadata": {
    "pycharm": {
     "is_executing": false,
     "name": "#%%\n"
    }
   },
   "outputs": [],
   "source": [
    "help(x.sort)"
   ]
  },
  {
   "cell_type": "code",
   "execution_count": null,
   "metadata": {
    "pycharm": {
     "is_executing": false,
     "name": "#%%\n"
    }
   },
   "outputs": [],
   "source": [
    "import pandas as pd\n",
    "i1.df[[\"EvalT\",\"reward\"]].groupby([\"EvalT\"])[\"reward\"].sum()\n",
    "dfr = i1.df.groupby([\"EvalT\"]).\\\n",
    "            agg(reward=pd.NamedAgg(column=\"reward\", aggfunc=\"sum\"),\n",
    "                num_trans=pd.NamedAgg(column=\"trans_id\",aggfunc=\"count\")\n",
    "                )\n"
   ]
  },
  {
   "cell_type": "code",
   "execution_count": null,
   "metadata": {
    "pycharm": {
     "is_executing": false,
     "name": "#%%\n"
    }
   },
   "outputs": [],
   "source": [
    "dfr\n"
   ]
  },
  {
   "cell_type": "code",
   "execution_count": null,
   "metadata": {
    "pycharm": {
     "name": "#%%\n"
    }
   },
   "outputs": [],
   "source": [
    "import matplotlib.pyplot as plt\n",
    "plt.plot()\n"
   ]
  },
  {
   "cell_type": "code",
   "execution_count": null,
   "metadata": {
    "pycharm": {
     "is_executing": false,
     "name": "#%%\n"
    }
   },
   "outputs": [],
   "source": [
    "import re\n",
    "int(re.findall(r'T(\\d+)', \"/home/rdchujf/n_workspace/RL/Buy300_2C/model/train_model_AIO_1105_1150_T7000.h5\")[0])\n"
   ]
  },
  {
   "cell_type": "code",
   "execution_count": 7,
   "metadata": {},
   "outputs": [
    {
     "data": {
      "text/plain": [
       "[3, 9, 12, 21, 16]"
      ]
     },
     "execution_count": 7,
     "metadata": {},
     "output_type": "execute_result"
    }
   ],
   "source": [
    "a=list(range(10))\n",
    "list(map(lambda x: a[x]*2 if a[x]%2==0 else a[x]*3, [1,3,6,7,8]))"
   ]
  },
  {
   "cell_type": "code",
   "execution_count": 8,
   "metadata": {},
   "outputs": [
    {
     "name": "stdout",
     "output_type": "stream",
     "text": [
      "[0, 1, 2, 3, 4, 5, 6, 7, 8, 9]\n",
      "[0, 1, 2, 3, 4, 5, 6, 8, 9]\n"
     ]
    }
   ],
   "source": [
    "a=list(range(10))\n",
    "print (a)\n",
    "del a[7]\n",
    "print (a)"
   ]
  },
  {
   "cell_type": "code",
   "execution_count": 15,
   "metadata": {},
   "outputs": [
    {
     "name": "stdout",
     "output_type": "stream",
     "text": [
      "True 1 2\n",
      "True 1 2\n"
     ]
    }
   ],
   "source": [
    "def a():\n",
    "    b=[1,2]\n",
    "    return [True]+b\n",
    "\n",
    "def c():\n",
    "    return True, 1,2\n",
    "\n",
    "a1,a2,a3=a()\n",
    "c1,c2,c3=c()\n",
    "print (a1,a2,a3)\n",
    "print (c1,c2,c3)"
   ]
  },
  {
   "cell_type": "code",
   "execution_count": 16,
   "metadata": {},
   "outputs": [
    {
     "name": "stdout",
     "output_type": "stream",
     "text": [
      "[0, 1, 2, 3, 4, 5, 6, 100, 8, 9]\n"
     ]
    }
   ],
   "source": [
    "a=list(range(10))\n",
    "a[7]=100\n",
    "print (a)"
   ]
  }
 ],
 "metadata": {
  "kernelspec": {
   "display_name": "Python 3",
   "language": "python",
   "name": "python3"
  },
  "language_info": {
   "codemirror_mode": {
    "name": "ipython",
    "version": 3
   },
   "file_extension": ".py",
   "mimetype": "text/x-python",
   "name": "python",
   "nbconvert_exporter": "python",
   "pygments_lexer": "ipython3",
   "version": "3.7.7"
  },
  "pycharm": {
   "stem_cell": {
    "cell_type": "raw",
    "metadata": {
     "collapsed": false
    },
    "source": []
   }
  }
 },
 "nbformat": 4,
 "nbformat_minor": 1
}
