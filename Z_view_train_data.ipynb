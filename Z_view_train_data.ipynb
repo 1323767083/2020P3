{
 "cells": [
  {
   "cell_type": "code",
   "execution_count": 17,
   "metadata": {},
   "outputs": [
    {
     "name": "stdout",
     "output_type": "stream",
     "text": [
      "+-------------+--------+----------+----------+-----------------------+--------------+------------+\n",
      "| action_prob | reward |  Stock   |  DateI   | action_return_message | action_taken |   old_ap   |\n",
      "+-------------+--------+----------+----------+-----------------------+--------------+------------+\n",
      "|   [1. 0.]   |  0.19  | SH600176 | 20191015 |        Success        |     Buy      | 0.50393903 |\n",
      "|   [1. 0.]   | -0.10  | SH600926 | 20191113 |        Success        |     Buy      | 0.5039301  |\n",
      "|   [1. 0.]   | -0.77  | SH601698 | 20190809 |        Success        |     Buy      | 0.5055539  |\n",
      "|   [1. 0.]   |  0.01  | SH601916 | 20191211 |        Success        |     Buy      | 0.50378156 |\n",
      "|   [1. 0.]   |  0.90  | SH600660 | 20190606 |        Success        |     Buy      | 0.5046302  |\n",
      "|   [1. 0.]   |  0.37  | SH600027 | 20181018 |        Success        |     Buy      |  0.502209  |\n",
      "|   [1. 0.]   |  0.12  | SH600570 | 20180119 |        Success        |     Buy      | 0.5040902  |\n",
      "|   [1. 0.]   |  0.10  | SH601111 | 20181126 |        Success        |     Buy      | 0.5036416  |\n",
      "|   [1. 0.]   |  0.01  | SH601108 | 20180823 |        Success        |     Buy      | 0.5081357  |\n",
      "|   [1. 0.]   | -0.04  | SH600066 | 20191220 |        Success        |     Buy      | 0.5095979  |\n",
      "|   [1. 0.]   | -0.01  | SZ300413 | 20190715 |        Success        |     Buy      | 0.5057206  |\n",
      "|   [1. 0.]   | -0.24  | SZ002558 | 20180117 |        Success        |     Buy      | 0.5075583  |\n",
      "|   [1. 0.]   |  0.06  | SH601992 | 20180116 |        Success        |     Buy      | 0.50372916 |\n",
      "|   [1. 0.]   |  0.17  | SH600000 | 20180306 |        Success        |     Buy      | 0.5045432  |\n",
      "|   [1. 0.]   |  0.04  | SH601669 | 20190115 |        Success        |     Buy      | 0.5072152  |\n",
      "|   [1. 0.]   |  0.69  | SH600516 | 20180601 |        Success        |     Buy      | 0.50570416 |\n",
      "|   [1. 0.]   | -0.77  | SH600958 | 20180208 |        Success        |     Buy      | 0.5020391  |\n",
      "|   [1. 0.]   | -0.39  | SZ300601 | 20190422 |        Success        |     Buy      | 0.50260377 |\n",
      "|   [1. 0.]   | -0.29  | SZ002024 | 20190320 |        Success        |     Buy      |  0.502655  |\n",
      "|   [1. 0.]   |  0.95  | SH603260 | 20181019 |        Success        |     Buy      | 0.50570244 |\n",
      "|   [1. 0.]   | -0.09  | SH600208 | 20181101 |        Success        |     Buy      | 0.5077767  |\n",
      "|   [1. 0.]   |  0.74  | SH603369 | 20190709 |        Success        |     Buy      | 0.5040392  |\n",
      "|   [1. 0.]   | -0.49  | SH600547 | 20190327 |        Success        |     Buy      | 0.50550926 |\n",
      "|   [1. 0.]   | -0.77  | SZ002371 | 20180524 |        Success        |     Buy      | 0.50444233 |\n",
      "|   [1. 0.]   | -0.10  | SH601828 | 20190917 |        Success        |     Buy      | 0.50754434 |\n",
      "|   [1. 0.]   | -0.77  | SZ300347 | 20190530 |        Success        |     Buy      | 0.5063742  |\n",
      "|   [1. 0.]   | -0.09  | SH601618 | 20190513 |        Success        |     Buy      | 0.50432265 |\n",
      "|   [1. 0.]   |  0.11  | SH601155 | 20190110 |        Success        |     Buy      | 0.5058315  |\n",
      "|   [1. 0.]   | -0.16  | SH601881 | 20180920 |        Success        |     Buy      |  0.506984  |\n",
      "|   [1. 0.]   | -0.12  | SZ002493 | 20181105 |        Success        |     Buy      | 0.5085072  |\n",
      "|   [1. 0.]   | -0.08  | SZ000961 | 20190617 |        Success        |     Buy      | 0.5067254  |\n",
      "|   [1. 0.]   | -0.07  | SH600030 | 20191118 |        Success        |     Buy      | 0.51055753 |\n",
      "|   [1. 0.]   | -0.61  | SH601100 | 20180322 |        Success        |     Buy      | 0.50515723 |\n",
      "|   [1. 0.]   | -0.16  | SZ002555 | 20180718 |        Success        |     Buy      | 0.50713646 |\n",
      "|   [1. 0.]   |  0.11  | SH601688 | 20180308 |        Success        |     Buy      | 0.50796235 |\n",
      "|   [1. 0.]   |  0.37  | SZ300136 | 20191022 |        Success        |     Buy      | 0.5081083  |\n",
      "|   [1. 0.]   |  0.00  | SH601989 | 20180302 |        Success        |     Buy      | 0.50748765 |\n",
      "|   [1. 0.]   |  0.15  | SH600482 | 20180403 |        Success        |     Buy      | 0.5050908  |\n",
      "|   [1. 0.]   | -0.17  | SH600025 | 20190418 |        Success        |     Buy      | 0.5026729  |\n",
      "|   [1. 0.]   | -0.23  | SZ002468 | 20181015 |        Success        |     Buy      | 0.50533855 |\n",
      "|   [1. 0.]   | -0.77  | SH601919 | 20180813 |        Success        |     Buy      | 0.5068377  |\n",
      "|   [1. 0.]   |  0.08  | SH600837 | 20180913 |        Success        |     Buy      | 0.50393945 |\n",
      "|   [1. 0.]   |  0.18  | SZ002508 | 20180808 |        Success        |     Buy      | 0.50552636 |\n",
      "|   [1. 0.]   | -0.03  | SH600028 | 20190515 |        Success        |     Buy      | 0.5054333  |\n",
      "|   [1. 0.]   |  0.54  | SZ002841 | 20181101 |        Success        |     Buy      | 0.5081093  |\n",
      "|   [1. 0.]   |  0.34  | SH600109 | 20180423 |        Success        |     Buy      | 0.5037607  |\n",
      "|   [1. 0.]   |  0.02  | SH601800 | 20180615 |        Success        |     Buy      | 0.5078859  |\n",
      "|   [1. 0.]   |  0.35  | SZ002736 | 20190621 |        Success        |     Buy      | 0.50402176 |\n",
      "|   [1. 0.]   |  0.50  | SZ000538 | 20180326 |        Success        |     Buy      | 0.50461024 |\n",
      "|   [1. 0.]   | -0.15  | SZ002466 | 20180119 |        Success        |     Buy      | 0.50561523 |\n",
      "+-------------+--------+----------+----------+-----------------------+--------------+------------+\n",
      "[[-0.40586648]]\n"
     ]
    }
   ],
   "source": [
    "from recorder import record_variable_DBTP\n",
    "import config as sc\n",
    "import prettytable as pt\n",
    "import os\n",
    "\n",
    "system_name=\"nr_b_try\"\n",
    "lc = sc.gconfig()\n",
    "lc.read_from_json(os.path.join(sc.base_dir_RL_system, system_name, \"config.json\"))\n",
    "dickeys=['Stock', 'DateI', 'action_return_message', 'action_taken', 'old_ap']\n",
    "i=record_variable_DBTP(lc)\n",
    "RD_trainer, RD_brain,RD_process=i.read_SC_CC_data(0, 7)\n",
    "tb=pt.PrettyTable()\n",
    "tb.field_names=[\"action_prob\",\"reward\"]+dickeys\n",
    "tb.float_format=\".2\"\n",
    "_, _, _, l_a, l_r, _, _, _,_,l_support_view=RD_trainer    \n",
    "for a,r,support_view in zip(l_a, l_r,l_support_view):\n",
    "    \n",
    "    row=[a[0],r[0][0]]\n",
    "    #if support_view[0][0][\"Stock\"]=='SH600346':\n",
    "    for dickey in dickeys:\n",
    "        row.append(support_view[0][0][dickey])\n",
    "    tb.add_row(row)\n",
    "print (tb)\n",
    "print (sum(l_r))\n",
    "\n",
    "#RD_trainer = [l_s_lv, l_s_sv, l_s_av, l_a, l_r, l_s__lv, l_s__sv, l_s__av,False,l_support_view]\n",
    "#RD_brain = raw_loss\n",
    "#RD_process = [raw_sccc[\"current_train_count\"],raw_sccc[\"saved_train_count\"]]\n",
    "\n",
    "\n",
    "\n"
   ]
  },
  {
   "cell_type": "code",
   "execution_count": 4,
   "metadata": {},
   "outputs": [
    {
     "data": {
      "text/plain": [
       "-0.18882428550000002"
      ]
     },
     "execution_count": 4,
     "metadata": {},
     "output_type": "execute_result"
    }
   ],
   "source": [
    "-0.20981483+0.95*0.02209531 #1 [-0.18882428]\n"
   ]
  }
 ],
 "metadata": {
  "kernelspec": {
   "display_name": "Python 3",
   "language": "python",
   "name": "python3"
  },
  "language_info": {
   "codemirror_mode": {
    "name": "ipython",
    "version": 3
   },
   "file_extension": ".py",
   "mimetype": "text/x-python",
   "name": "python",
   "nbconvert_exporter": "python",
   "pygments_lexer": "ipython3",
   "version": "3.7.7"
  }
 },
 "nbformat": 4,
 "nbformat_minor": 4
}
