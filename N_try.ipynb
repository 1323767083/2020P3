{
 "cells": [
  {
   "cell_type": "code",
   "execution_count": null,
   "metadata": {
    "collapsed": true,
    "pycharm": {
     "is_executing": false,
     "name": "#%%\n"
    }
   },
   "outputs": [],
   "source": [
    "import os\n",
    "\n",
    "import vresult_data_reward as v\n",
    "import vresult_data_com as c\n",
    "import config as sc\n",
    "system_name=\"Sell300\"\n",
    "process_group_name=\"EvalAgent_0\"\n",
    "process_idx=\"All\"\n",
    "\n",
    "Lstock, LEvalT, LYM, lgc=c.get_addon_setting(system_name,process_group_name)\n",
    "i=v.ana_reward_data(system_name, process_group_name,process_idx,Lstock, LEvalT, LYM,lgc)\n",
    "\n"
   ]
  },
  {
   "cell_type": "code",
   "execution_count": null,
   "outputs": [],
   "source": [
    "fnwps=i._get_fnwp__are_summary_1ET1G(250, 0)\n",
    "print (fnwps)\n",
    "i._check_exists__are_summary_1ET1G(fnwps)\n",
    "a=i._get_are_summary_1ET(250)\n",
    "print(a)\n",
    "print (\"h\")"
   ],
   "metadata": {
    "collapsed": false,
    "pycharm": {
     "name": "#%%\n",
     "is_executing": false
    }
   }
  },
  {
   "cell_type": "code",
   "execution_count": null,
   "outputs": [],
   "source": [
    "i.get_are_summary()\n",
    "\n"
   ],
   "metadata": {
    "collapsed": false,
    "pycharm": {
     "name": "#%%\n",
     "is_executing": false
    }
   }
  },
  {
   "cell_type": "code",
   "execution_count": null,
   "outputs": [],
   "source": [
    "import os,re\n",
    "HostName=os.uname()[1]\n",
    "print (HostName)\n",
    "\n",
    "import vresult_data_com as vrc\n",
    "import vresult_data_reward as vdr\n",
    "system_name=\"Sell300\"\n",
    "process_name=\"EvalAgent_0\"\n",
    "Lstock, LEvalT, LYM, lgc=vrc.get_addon_setting(system_name,process_name)\n",
    "i0=vdr.ana_reward(system_name, process_name,Lstock, LEvalT, LYM,lgc)\n",
    "process_name=\"EvalAgent_1\"\n",
    "i1=vdr.ana_reward(system_name, process_name,Lstock, LEvalT, LYM,lgc)\n"
   ],
   "metadata": {
    "collapsed": false,
    "pycharm": {
     "name": "#%%\n",
     "is_executing": true
    }
   }
  },
  {
   "cell_type": "code",
   "execution_count": null,
   "outputs": [],
   "source": [
    "%matplotlib inline\n",
    "import matplotlib\n",
    "import matplotlib.pyplot as plt\n",
    "plt.rcParams[\"figure.figsize\"] = (20,10)\n",
    "fig=plt.figure()\n",
    "i0.show_reward(fig, 250,[],[])\n",
    "plt.show()\n",
    "\n"
   ],
   "metadata": {
    "collapsed": false,
    "pycharm": {
     "name": "#%%\n",
     "is_executing": false
    }
   }
  },
  {
   "cell_type": "code",
   "execution_count": null,
   "outputs": [],
   "source": [
    "dn0=\"/home/rdchujf/n_workspace/RL/Sell300/EvalAgent_0\"\n",
    "sl0=os.listdir(dn0)\n",
    "dn2=\"/home/rdchujf/n_workspace/RL/Sell300/EvalAgent_2\"\n",
    "sl2=os.listdir(dn2)\n",
    "print (len(sl0),len(sl2))\n",
    "\n",
    "print (set(sl0)-set(sl2))\n",
    "\n"
   ],
   "metadata": {
    "collapsed": false,
    "pycharm": {
     "name": "#%%\n",
     "is_executing": false
    }
   }
  },
  {
   "cell_type": "code",
   "execution_count": null,
   "outputs": [],
   "source": [
    "import DBI_Base\n",
    "iSL = DBI_Base.StockList(\"SLV300\")\n",
    "flag,group_stock_list=iSL.get_sub_sl(\"Eval\", 0)\n",
    "print (flag, group_stock_list)\n",
    "process_idx=5\n",
    "process_idx_left = process_idx % 3\n",
    "\n",
    "mod=len(group_stock_list)//3\n",
    "left=len(group_stock_list)%3\n",
    "stock_list = group_stock_list[process_idx_left * mod:(process_idx_left + 1) * mod]\n",
    "if process_idx_left<left:\n",
    "    stock_list.append(group_stock_list[-(process_idx_left+1)])\n",
    "\n"
   ],
   "metadata": {
    "collapsed": false,
    "pycharm": {
     "name": "#%%\n",
     "is_executing": false
    }
   }
  },
  {
   "cell_type": "code",
   "execution_count": 3,
   "outputs": [],
   "source": [
    "import os\n",
    "import config as sc\n",
    "import vresult_data_reward as v\n",
    "\n",
    "system_name=\"Buy300\"\n",
    "process_group_name=\"EvalAgent_2\"\n",
    "process_idx=\"ALL\"\n",
    "Lstock=[]\n",
    "LEvalT=[]\n",
    "LYM=[]\n",
    "param_fnwp = os.path.join(sc.base_dir_RL_system, system_name, \"config.json\")\n",
    "if not os.path.exists(param_fnwp):\n",
    "    raise ValueError(\"{0} does not exisit\".format(param_fnwp))\n",
    "lc = sc.gconfig()\n",
    "lc.read_from_json(param_fnwp)\n",
    "\n",
    "\n",
    "i=v.ana_reward_data(system_name, process_group_name,process_idx,Lstock, LEvalT, LYM,lc)\n",
    "# system_name, process_group_name,process_idx,Lstock, LEvalT, LYM,lgc"
   ],
   "metadata": {
    "collapsed": false,
    "pycharm": {
     "name": "#%%\n",
     "is_executing": false
    }
   }
  },
  {
   "cell_type": "code",
   "execution_count": 4,
   "outputs": [],
   "source": [
    "a=i._get_are_summary_1stock_1ET(\"SH600000\", 4500)\n",
    "\n"
   ],
   "metadata": {
    "collapsed": false,
    "pycharm": {
     "name": "#%%\n",
     "is_executing": false
    }
   }
  },
  {
   "cell_type": "code",
   "execution_count": 9,
   "outputs": [
    {
     "data": {
      "text/plain": "Index(['trans_id', 'trans_start', 'trans_end', 'reward', 'duration',\n       'buy_price', 'sell_price', 'valid_trans_kpi', 'buy_count',\n       'flag_trans_valid', 'stock', 'EvalT'],\n      dtype='object')"
     },
     "metadata": {},
     "output_type": "execute_result",
     "execution_count": 9
    }
   ],
   "source": [
    "df.columns\n",
    "\n"
   ],
   "metadata": {
    "collapsed": false,
    "pycharm": {
     "name": "#%%\n",
     "is_executing": false
    }
   }
  },
  {
   "cell_type": "code",
   "execution_count": 12,
   "outputs": [
    {
     "data": {
      "text/plain": "65"
     },
     "metadata": {},
     "output_type": "execute_result",
     "execution_count": 12
    }
   ],
   "source": [
    "len(set(df[\"trans_start\"].to_list()))\n",
    "\n",
    "\n"
   ],
   "metadata": {
    "collapsed": false,
    "pycharm": {
     "name": "#%%\n",
     "is_executing": false
    }
   }
  },
  {
   "cell_type": "code",
   "execution_count": 16,
   "outputs": [],
   "source": [
    "import pandas as pd\n",
    "dfr=df.groupby([\"trans_start\"]).agg(trans_end=pd.NamedAgg(column=\"trans_end\", aggfunc=\"count\"))"
   ],
   "metadata": {
    "collapsed": false,
    "pycharm": {
     "name": "#%%\n",
     "is_executing": false
    }
   }
  },
  {
   "cell_type": "code",
   "execution_count": 17,
   "outputs": [
    {
     "name": "stdout",
     "text": [
      "             trans_end\n",
      "trans_start           \n",
      "20200106             2\n",
      "20200108             2\n",
      "20200113             2\n",
      "20200116             2\n",
      "20200206             2\n",
      "20200220             2\n",
      "20200226             2\n",
      "20200228             2\n",
      "20200310             2\n",
      "20200319             2\n",
      "20200325             2\n",
      "20200331             3\n",
      "20200401             2\n",
      "20200415             2\n",
      "20200417             2\n",
      "20200428             3\n",
      "20200507             2\n",
      "20200511             2\n",
      "20200514             2\n"
     ],
     "output_type": "stream"
    }
   ],
   "source": [
    "print (dfr[dfr[\"trans_end\"]!=1])"
   ],
   "metadata": {
    "collapsed": false,
    "pycharm": {
     "name": "#%%\n",
     "is_executing": false
    }
   }
  },
  {
   "cell_type": "code",
   "execution_count": null,
   "outputs": [],
   "source": [
    "df[\"trans_start\"]\n",
    "#print (df[df[\"trans_start\"]>20200320])\n"
   ],
   "metadata": {
    "collapsed": false,
    "pycharm": {
     "name": "#%%\n",
     "is_executing": true
    }
   }
  }
 ],
 "metadata": {
  "kernelspec": {
   "display_name": "Python 3",
   "language": "python",
   "name": "python3"
  },
  "language_info": {
   "codemirror_mode": {
    "name": "ipython",
    "version": 2
   },
   "file_extension": ".py",
   "mimetype": "text/x-python",
   "name": "python",
   "nbconvert_exporter": "python",
   "pygments_lexer": "ipython2",
   "version": "2.7.6"
  },
  "pycharm": {
   "stem_cell": {
    "cell_type": "raw",
    "source": [],
    "metadata": {
     "collapsed": false
    }
   }
  }
 },
 "nbformat": 4,
 "nbformat_minor": 0
}