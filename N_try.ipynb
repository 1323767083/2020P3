{
 "cells": [
  {
   "cell_type": "code",
   "execution_count": 1,
   "metadata": {
    "collapsed": true,
    "pycharm": {
     "is_executing": false,
     "name": "#%%\n"
    }
   },
   "outputs": [
    {
     "name": "stdout",
     "text": [
      "homeserver\n",
      "preparing  EvalAgent_0 Eval Process All 2750\n",
      "can not find /home/rdchujf/n_workspace/RL/Buy300_2/EvalAgent_0/SH600893/log_a_r_e_T2750.csv\n",
      "preparing  EvalAgent_2 Eval Process All 2750\n",
      "can not find /home/rdchujf/n_workspace/RL/Buy300_2/EvalAgent_2/SH600893/log_a_r_e_T2750.csv\n"
     ],
     "output_type": "stream"
    },
    {
     "name": "stderr",
     "text": [
      "[========================================================================] 100%\r\n",
      "[========================================================================] 100%\r\n"
     ],
     "output_type": "stream"
    }
   ],
   "source": [
    "import os,re\n",
    "HostName=os.uname()[1]\n",
    "print (HostName)\n",
    "\n",
    "import vresult_data_com as vrc\n",
    "import vresult_data_reward as vdr\n",
    "import config as sc\n",
    "#system_name=\"Sell300\"\n",
    "system_name=\"Buy300_2\"\n",
    "process_name=\"EvalAgent_0\"\n",
    "Lstock, LEvalT, LYM, lgc=vrc.get_addon_setting(system_name,process_name)\n",
    "i0=vdr.ana_reward(system_name, process_name,Lstock, LEvalT, LYM,lgc)\n",
    "process_name=\"EvalAgent_2\"\n",
    "i1=vdr.ana_reward(system_name, process_name,Lstock, LEvalT, LYM,lgc)"
   ]
  },
  {
   "cell_type": "code",
   "execution_count": 2,
   "outputs": [
    {
     "data": {
      "text/plain": "            trans_id  trans_start  trans_end  reward  duration  buy_price  \\\n0        SH601012_T1     20200106   20200107  0.0120         2      27.20   \n1       SH601012_T10     20200212   20200219 -0.1000         6      34.31   \n2       SH601012_T11     20200217   20200218  0.0511         2      32.21   \n3       SH601012_T12     20200221   20200224  0.0125         2      33.41   \n4       SH601012_T13     20200225   20200303 -0.1000         6      33.47   \n...              ...          ...        ...     ...       ...        ...   \n69256  SZ002146_T245     20200430   20200512 -0.0055         6       8.08   \n69257  SZ002146_T246     20200511   20200518 -0.1000         6       8.15   \n69258  SZ002146_T247     20200512   20200519 -0.1000         6       8.05   \n69259  SZ002146_T248     20200519   20200526 -0.1000         6       7.88   \n69260  SZ002146_T249     20200521   20200528  0.0163         6       7.73   \n\n       sell_price  valid_trans_kpi  buy_count  flag_trans_valid     stock  \\\n0          27.570              1.0          1              True  SH601012   \n1          33.174              0.5          1              True  SH601012   \n2          33.910              1.0          1              True  SH601012   \n3          33.880              1.0          1              True  SH601012   \n4          31.906              0.5          1              True  SH601012   \n...           ...              ...        ...               ...       ...   \n69256       8.050              1.0          1              True  SZ002146   \n69257       7.918              0.5          1              True  SZ002146   \n69258       7.884              0.5          1              True  SZ002146   \n69259       7.672              0.5          1              True  SZ002146   \n69260       7.870              1.0          1              True  SZ002146   \n\n       EvalT  \n0        250  \n1        250  \n2        250  \n3        250  \n4        250  \n...      ...  \n69256   2500  \n69257   2500  \n69258   2500  \n69259   2500  \n69260   2500  \n\n[69261 rows x 12 columns]",
      "text/html": "<div>\n<style scoped>\n    .dataframe tbody tr th:only-of-type {\n        vertical-align: middle;\n    }\n\n    .dataframe tbody tr th {\n        vertical-align: top;\n    }\n\n    .dataframe thead th {\n        text-align: right;\n    }\n</style>\n<table border=\"1\" class=\"dataframe\">\n  <thead>\n    <tr style=\"text-align: right;\">\n      <th></th>\n      <th>trans_id</th>\n      <th>trans_start</th>\n      <th>trans_end</th>\n      <th>reward</th>\n      <th>duration</th>\n      <th>buy_price</th>\n      <th>sell_price</th>\n      <th>valid_trans_kpi</th>\n      <th>buy_count</th>\n      <th>flag_trans_valid</th>\n      <th>stock</th>\n      <th>EvalT</th>\n    </tr>\n  </thead>\n  <tbody>\n    <tr>\n      <th>0</th>\n      <td>SH601012_T1</td>\n      <td>20200106</td>\n      <td>20200107</td>\n      <td>0.0120</td>\n      <td>2</td>\n      <td>27.20</td>\n      <td>27.570</td>\n      <td>1.0</td>\n      <td>1</td>\n      <td>True</td>\n      <td>SH601012</td>\n      <td>250</td>\n    </tr>\n    <tr>\n      <th>1</th>\n      <td>SH601012_T10</td>\n      <td>20200212</td>\n      <td>20200219</td>\n      <td>-0.1000</td>\n      <td>6</td>\n      <td>34.31</td>\n      <td>33.174</td>\n      <td>0.5</td>\n      <td>1</td>\n      <td>True</td>\n      <td>SH601012</td>\n      <td>250</td>\n    </tr>\n    <tr>\n      <th>2</th>\n      <td>SH601012_T11</td>\n      <td>20200217</td>\n      <td>20200218</td>\n      <td>0.0511</td>\n      <td>2</td>\n      <td>32.21</td>\n      <td>33.910</td>\n      <td>1.0</td>\n      <td>1</td>\n      <td>True</td>\n      <td>SH601012</td>\n      <td>250</td>\n    </tr>\n    <tr>\n      <th>3</th>\n      <td>SH601012_T12</td>\n      <td>20200221</td>\n      <td>20200224</td>\n      <td>0.0125</td>\n      <td>2</td>\n      <td>33.41</td>\n      <td>33.880</td>\n      <td>1.0</td>\n      <td>1</td>\n      <td>True</td>\n      <td>SH601012</td>\n      <td>250</td>\n    </tr>\n    <tr>\n      <th>4</th>\n      <td>SH601012_T13</td>\n      <td>20200225</td>\n      <td>20200303</td>\n      <td>-0.1000</td>\n      <td>6</td>\n      <td>33.47</td>\n      <td>31.906</td>\n      <td>0.5</td>\n      <td>1</td>\n      <td>True</td>\n      <td>SH601012</td>\n      <td>250</td>\n    </tr>\n    <tr>\n      <th>...</th>\n      <td>...</td>\n      <td>...</td>\n      <td>...</td>\n      <td>...</td>\n      <td>...</td>\n      <td>...</td>\n      <td>...</td>\n      <td>...</td>\n      <td>...</td>\n      <td>...</td>\n      <td>...</td>\n      <td>...</td>\n    </tr>\n    <tr>\n      <th>69256</th>\n      <td>SZ002146_T245</td>\n      <td>20200430</td>\n      <td>20200512</td>\n      <td>-0.0055</td>\n      <td>6</td>\n      <td>8.08</td>\n      <td>8.050</td>\n      <td>1.0</td>\n      <td>1</td>\n      <td>True</td>\n      <td>SZ002146</td>\n      <td>2500</td>\n    </tr>\n    <tr>\n      <th>69257</th>\n      <td>SZ002146_T246</td>\n      <td>20200511</td>\n      <td>20200518</td>\n      <td>-0.1000</td>\n      <td>6</td>\n      <td>8.15</td>\n      <td>7.918</td>\n      <td>0.5</td>\n      <td>1</td>\n      <td>True</td>\n      <td>SZ002146</td>\n      <td>2500</td>\n    </tr>\n    <tr>\n      <th>69258</th>\n      <td>SZ002146_T247</td>\n      <td>20200512</td>\n      <td>20200519</td>\n      <td>-0.1000</td>\n      <td>6</td>\n      <td>8.05</td>\n      <td>7.884</td>\n      <td>0.5</td>\n      <td>1</td>\n      <td>True</td>\n      <td>SZ002146</td>\n      <td>2500</td>\n    </tr>\n    <tr>\n      <th>69259</th>\n      <td>SZ002146_T248</td>\n      <td>20200519</td>\n      <td>20200526</td>\n      <td>-0.1000</td>\n      <td>6</td>\n      <td>7.88</td>\n      <td>7.672</td>\n      <td>0.5</td>\n      <td>1</td>\n      <td>True</td>\n      <td>SZ002146</td>\n      <td>2500</td>\n    </tr>\n    <tr>\n      <th>69260</th>\n      <td>SZ002146_T249</td>\n      <td>20200521</td>\n      <td>20200528</td>\n      <td>0.0163</td>\n      <td>6</td>\n      <td>7.73</td>\n      <td>7.870</td>\n      <td>1.0</td>\n      <td>1</td>\n      <td>True</td>\n      <td>SZ002146</td>\n      <td>2500</td>\n    </tr>\n  </tbody>\n</table>\n<p>69261 rows × 12 columns</p>\n</div>"
     },
     "metadata": {},
     "output_type": "execute_result",
     "execution_count": 2
    }
   ],
   "source": [
    "i1.df\n",
    "#((i1.df[\"sell_price\"]-i1.df[\"buy_price\"])/i1.df[\"buy_price\"]).mean()"
   ],
   "metadata": {
    "collapsed": false,
    "pycharm": {
     "name": "#%%\n",
     "is_executing": false
    }
   }
  },
  {
   "cell_type": "code",
   "execution_count": 3,
   "outputs": [
    {
     "data": {
      "text/plain": "-0.029267926900502835"
     },
     "metadata": {},
     "output_type": "execute_result",
     "execution_count": 3
    }
   ],
   "source": [
    "dft=i1.df[i1.df[\"valid_trans_kpi\"]!=1.0]\n",
    "\n",
    "\n",
    "((dft[\"sell_price\"]-dft[\"buy_price\"])/dft[\"buy_price\"]).mean()"
   ],
   "metadata": {
    "collapsed": false,
    "pycharm": {
     "name": "#%%\n",
     "is_executing": false
    }
   }
  },
  {
   "cell_type": "code",
   "execution_count": 4,
   "outputs": [],
   "source": [
    "i1.df.loc[i1.df[\"valid_trans_kpi\"]!=1,\"reward\"]=-0.03"
   ],
   "metadata": {
    "collapsed": false,
    "pycharm": {
     "name": "#%%\n",
     "is_executing": false
    }
   }
  },
  {
   "cell_type": "code",
   "execution_count": 5,
   "outputs": [],
   "source": [
    "import pandas as pd\n",
    "i1.df[[\"EvalT\",\"reward\"]].groupby([\"EvalT\"])[\"reward\"].sum()\n",
    "dfr = i1.df.groupby([\"EvalT\"]).\\\n",
    "            agg(reward=pd.NamedAgg(column=\"reward\", aggfunc=\"sum\"),\n",
    "                num_trans=pd.NamedAgg(column=\"trans_id\",aggfunc=\"count\")\n",
    "                )\n"
   ],
   "metadata": {
    "collapsed": false,
    "pycharm": {
     "name": "#%%\n",
     "is_executing": false
    }
   }
  },
  {
   "cell_type": "code",
   "execution_count": 6,
   "outputs": [
    {
     "data": {
      "text/plain": "        reward  num_trans\nEvalT                    \n250    14.1781       9713\n500     5.5649       8968\n750     9.1188       7252\n1000    0.8418      11640\n1250   10.4034       5964\n1500    9.7291       6382\n1750   12.9070       5217\n2000    5.6170       4504\n2250    9.1485       5013\n2500    7.9540       4608",
      "text/html": "<div>\n<style scoped>\n    .dataframe tbody tr th:only-of-type {\n        vertical-align: middle;\n    }\n\n    .dataframe tbody tr th {\n        vertical-align: top;\n    }\n\n    .dataframe thead th {\n        text-align: right;\n    }\n</style>\n<table border=\"1\" class=\"dataframe\">\n  <thead>\n    <tr style=\"text-align: right;\">\n      <th></th>\n      <th>reward</th>\n      <th>num_trans</th>\n    </tr>\n    <tr>\n      <th>EvalT</th>\n      <th></th>\n      <th></th>\n    </tr>\n  </thead>\n  <tbody>\n    <tr>\n      <th>250</th>\n      <td>14.1781</td>\n      <td>9713</td>\n    </tr>\n    <tr>\n      <th>500</th>\n      <td>5.5649</td>\n      <td>8968</td>\n    </tr>\n    <tr>\n      <th>750</th>\n      <td>9.1188</td>\n      <td>7252</td>\n    </tr>\n    <tr>\n      <th>1000</th>\n      <td>0.8418</td>\n      <td>11640</td>\n    </tr>\n    <tr>\n      <th>1250</th>\n      <td>10.4034</td>\n      <td>5964</td>\n    </tr>\n    <tr>\n      <th>1500</th>\n      <td>9.7291</td>\n      <td>6382</td>\n    </tr>\n    <tr>\n      <th>1750</th>\n      <td>12.9070</td>\n      <td>5217</td>\n    </tr>\n    <tr>\n      <th>2000</th>\n      <td>5.6170</td>\n      <td>4504</td>\n    </tr>\n    <tr>\n      <th>2250</th>\n      <td>9.1485</td>\n      <td>5013</td>\n    </tr>\n    <tr>\n      <th>2500</th>\n      <td>7.9540</td>\n      <td>4608</td>\n    </tr>\n  </tbody>\n</table>\n</div>"
     },
     "metadata": {},
     "output_type": "execute_result",
     "execution_count": 6
    }
   ],
   "source": [
    "dfr\n"
   ],
   "metadata": {
    "collapsed": false,
    "pycharm": {
     "name": "#%%\n",
     "is_executing": false
    }
   }
  },
  {
   "cell_type": "code",
   "execution_count": null,
   "outputs": [],
   "source": [
    "import matplotlib.pyplot as plt\n",
    "plt.plot()\n"
   ],
   "metadata": {
    "collapsed": false,
    "pycharm": {
     "name": "#%%\n"
    }
   }
  },
  {
   "cell_type": "code",
   "execution_count": 1,
   "outputs": [
    {
     "data": {
      "text/plain": "7000"
     },
     "metadata": {},
     "output_type": "execute_result",
     "execution_count": 1
    }
   ],
   "source": [
    "import re\n",
    "int(re.findall(r'T(\\d+)', \"/home/rdchujf/n_workspace/RL/Buy300_2C/model/train_model_AIO_1105_1150_T7000.h5\")[0])\n"
   ],
   "metadata": {
    "collapsed": false,
    "pycharm": {
     "name": "#%%\n",
     "is_executing": false
    }
   }
  }
 ],
 "metadata": {
  "kernelspec": {
   "display_name": "Python 3",
   "language": "python",
   "name": "python3"
  },
  "language_info": {
   "codemirror_mode": {
    "name": "ipython",
    "version": 2
   },
   "file_extension": ".py",
   "mimetype": "text/x-python",
   "name": "python",
   "nbconvert_exporter": "python",
   "pygments_lexer": "ipython2",
   "version": "2.7.6"
  },
  "pycharm": {
   "stem_cell": {
    "cell_type": "raw",
    "source": [],
    "metadata": {
     "collapsed": false
    }
   }
  }
 },
 "nbformat": 4,
 "nbformat_minor": 0
}