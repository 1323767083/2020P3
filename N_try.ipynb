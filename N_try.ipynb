{
 "cells": [
  {
   "cell_type": "code",
   "execution_count": 1,
   "metadata": {
    "collapsed": true,
    "pycharm": {
     "is_executing": false
    }
   },
   "outputs": [
    {
     "name": "stdout",
     "text": [
      "here\n",
      "31\n",
      "['SH603019', 'SZ000001', 'SZ000002', 'SZ000063', 'SZ000066', 'SZ000069', 'SZ000100', 'SZ000425', 'SZ000568', 'SZ000596', 'SZ000625', 'SZ000627', 'SZ000651', 'SZ000656', 'SZ000661', 'SZ000671', 'SZ000703', 'SZ000708', 'SZ000709', 'SZ000723', 'SZ000725', 'SZ000728', 'SZ000768', 'SZ000776', 'SZ000783', 'SZ000786', 'SZ000858', 'SZ000860', 'SZ000876', 'SZ000895', 'SZ000938']\n"
     ],
     "output_type": "stream"
    }
   ],
   "source": [
    "print (\"here\")\n",
    "\n",
    "TPDB_log_DN=\"/home/rdchujf/n_workspace/data/RL_data/TP_DB/TPVTest1/log\"\n",
    "HFQ_DN=\"/home/rdchujf/n_workspace/data/RL_data/I_DB/HFQ\"\n",
    "import os\n",
    "SZ_TPDB_log_DN=[fn[:-4] for fn in os.listdir(TPDB_log_DN)]\n",
    "SZ_HFQ_DN=[fn[:-4] for fn in os.listdir(HFQ_DN)]\n",
    "\n",
    "\n",
    "a=list(set(SZ_TPDB_log_DN)-(set(SZ_HFQ_DN)))\n",
    "a.sort()\n",
    "print (len(a))\n",
    "print (a)"
   ]
  },
  {
   "cell_type": "code",
   "execution_count": 2,
   "outputs": [
    {
     "name": "stdout",
     "text": [
      "         stock       day                                               mess\n",
      "0     SZ000708  20171205  DBI HFQ File Not Found****/home/rdchujf/n_work...\n",
      "1     SZ000708  20171206  DBI HFQ File Not Found****/home/rdchujf/n_work...\n",
      "2     SZ000708  20171207  DBI HFQ File Not Found****/home/rdchujf/n_work...\n",
      "3     SZ000708  20171208  DBI HFQ File Not Found****/home/rdchujf/n_work...\n",
      "4     SZ000708  20171211  DBI HFQ File Not Found****/home/rdchujf/n_work...\n",
      "...        ...       ...                                                ...\n",
      "8703  SZ000938  20200525  DBI HFQ File Not Found****/home/rdchujf/n_work...\n",
      "8704  SZ000938  20200526  DBI HFQ File Not Found****/home/rdchujf/n_work...\n",
      "8705  SZ000938  20200527  DBI HFQ File Not Found****/home/rdchujf/n_work...\n",
      "8706  SZ000938  20200528  DBI HFQ File Not Found****/home/rdchujf/n_work...\n",
      "8707  SZ000938  20200529  DBI HFQ File Not Found****/home/rdchujf/n_work...\n",
      "\n",
      "[8708 rows x 3 columns]\n"
     ],
     "output_type": "stream"
    },
    {
     "data": {
      "text/plain": "{'SZ000708',\n 'SZ000709',\n 'SZ000723',\n 'SZ000725',\n 'SZ000728',\n 'SZ000768',\n 'SZ000776',\n 'SZ000783',\n 'SZ000786',\n 'SZ000858',\n 'SZ000860',\n 'SZ000876',\n 'SZ000895',\n 'SZ000938'}"
     },
     "metadata": {},
     "output_type": "execute_result",
     "execution_count": 2
    }
   ],
   "source": [
    "\n",
    "import pandas as pd\n",
    "fnwp=\"/home/rdchujf/n_workspace/data/RL_data/I_DB/Stock_List/SLV300/CreateLog/Process14Error.txt\"\n",
    "df=pd.read_csv(fnwp,names=[\"stock\", \"day\", \"mess\"])\n",
    "print (df)\n",
    "set(df[\"stock\"].tolist())"
   ],
   "metadata": {
    "collapsed": false,
    "pycharm": {
     "name": "#%%\n",
     "is_executing": false
    }
   }
  },
  {
   "cell_type": "code",
   "execution_count": 15,
   "outputs": [
    {
     "name": "stdout",
     "text": [
      "36\n"
     ],
     "output_type": "stream"
    },
    {
     "data": {
      "text/plain": "['SZ000625',\n 'SZ000661',\n 'SZ000568',\n 'SZ000333',\n 'SZ000656',\n 'SZ000425',\n 'SZ000703',\n 'SZ000596',\n 'SZ000627',\n 'SZ000671',\n 'SZ000651',\n 'SH601360',\n 'SZ000876',\n 'SZ000858',\n 'SZ000860',\n 'SZ000725',\n 'SZ000768',\n 'SZ000938',\n 'SZ000723',\n 'SZ000776',\n 'SZ000895',\n 'SZ000709',\n 'SZ000783',\n 'SZ000786',\n 'SZ000728',\n 'SZ000708',\n 'SZ002008',\n 'SZ001979',\n 'SZ002410',\n 'SZ000001',\n 'SZ000100',\n 'SZ000063',\n 'SZ000002',\n 'SZ000066',\n 'SZ000069',\n 'SH603019']"
     },
     "metadata": {},
     "output_type": "execute_result",
     "execution_count": 15
    }
   ],
   "source": [
    "import os\n",
    "import pandas as pd\n",
    "DNWP=\"/home/rdchujf/n_workspace/data/RL_data/I_DB/Stock_List/SLV300/CreateLog\"\n",
    "\n",
    "l_fnwp=[os.path.join(DNWP,fn) for fn in os.listdir(DNWP) if \"Error\" in fn and os.path.getsize(os.path.join(DNWP,fn))!=0]\n",
    "l_stock_to_remove=[]\n",
    "for fnwp in l_fnwp:\n",
    "    df=pd.read_csv(fnwp,names=[\"stock\", \"day\", \"mess\"])\n",
    "    l_stock_to_remove.extend(list(set(df[\"stock\"].tolist())))\n",
    "    \n",
    "print (len(l_stock_to_remove))\n",
    "l_stock_to_remove"
   ],
   "metadata": {
    "collapsed": false,
    "pycharm": {
     "name": "#%%\n",
     "is_executing": false
    }
   }
  },
  {
   "cell_type": "code",
   "execution_count": 20,
   "outputs": [
    {
     "name": "stdout",
     "text": [
      "2\n"
     ],
     "output_type": "stream"
    },
    {
     "data": {
      "text/plain": "264"
     },
     "metadata": {},
     "output_type": "execute_result",
     "execution_count": 20
    }
   ],
   "source": [
    "import DBI_Base\n",
    "i=DBI_Base.StockList(\"SLV300\")\n",
    "a=i.get_sub_sl(\"Eval\",0)\n",
    "print(len(a))\n",
    "len(a[1])\n"
   ],
   "metadata": {
    "collapsed": false,
    "pycharm": {
     "name": "#%%\n",
     "is_executing": false
    }
   }
  }
 ],
 "metadata": {
  "kernelspec": {
   "display_name": "Python 3",
   "language": "python",
   "name": "python3"
  },
  "language_info": {
   "codemirror_mode": {
    "name": "ipython",
    "version": 2
   },
   "file_extension": ".py",
   "mimetype": "text/x-python",
   "name": "python",
   "nbconvert_exporter": "python",
   "pygments_lexer": "ipython2",
   "version": "2.7.6"
  },
  "pycharm": {
   "stem_cell": {
    "cell_type": "raw",
    "source": [],
    "metadata": {
     "collapsed": false
    }
   }
  }
 },
 "nbformat": 4,
 "nbformat_minor": 0
}