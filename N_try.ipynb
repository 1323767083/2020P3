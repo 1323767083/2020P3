{
 "cells": [
  {
   "cell_type": "code",
   "execution_count": 2,
   "metadata": {
    "collapsed": true,
    "pycharm": {
     "is_executing": false,
     "name": "#%%\n"
    }
   },
   "outputs": [
    {
     "name": "stdout",
     "text": [
      "homeserver\n",
      "preparing  EvalAgent_0 Eval Process All 5500\n",
      "can not find /home/rdchujf/n_workspace/RL/Buy300_2/EvalAgent_0/SH600893/log_a_r_e_T5500.csv\n",
      "preparing  EvalAgent_2 Eval Process All 5500\n",
      "can not find /home/rdchujf/n_workspace/RL/Buy300_2/EvalAgent_2/SH600893/log_a_r_e_T5500.csv\n"
     ],
     "output_type": "stream"
    },
    {
     "name": "stderr",
     "text": [
      "[========================================================================] 100%\r\n",
      "[========================================================================] 100%\r\n"
     ],
     "output_type": "stream"
    }
   ],
   "source": [
    "import os,re\n",
    "HostName=os.uname()[1]\n",
    "print (HostName)\n",
    "\n",
    "import vresult_data_com as vrc\n",
    "import vresult_data_reward as vdr\n",
    "import config as sc\n",
    "#system_name=\"Sell300\"\n",
    "system_name=\"Buy300_2\"\n",
    "process_name=\"EvalAgent_0\"\n",
    "Lstock, LEvalT, LYM, lgc=vrc.get_addon_setting(system_name,process_name)\n",
    "i0=vdr.ana_reward(system_name, process_name,Lstock, LEvalT, LYM,lgc)\n",
    "process_name=\"EvalAgent_2\"\n",
    "i1=vdr.ana_reward(system_name, process_name,Lstock, LEvalT, LYM,lgc)"
   ]
  },
  {
   "cell_type": "code",
   "execution_count": 11,
   "outputs": [
    {
     "data": {
      "text/plain": "              trans_id  trans_start  trans_end  reward  duration  buy_price  \\\n0          SH600027_T1     20200103   20200110 -0.1000         6       3.70   \n1         SH600027_T10     20200116   20200123 -0.0131         6       3.62   \n2         SH600027_T11     20200117   20200203 -0.1000         6       3.60   \n3         SH600027_T12     20200120   20200204 -0.1000         6       3.61   \n4         SH600027_T13     20200121   20200123 -0.0104         3       3.61   \n...                ...          ...        ...     ...       ...        ...   \n498115  SH603993_T1886     20200515   20200519  0.0179         3       3.49   \n498116  SH603993_T1887     20200518   20200519  0.0007         2       3.55   \n498117  SH603993_T1888     20200519   20200526 -0.1000         6       3.56   \n498118  SH603993_T1889     20200520   20200527 -0.1000         6       3.59   \n498119  SH603993_T1890     20200521   20200528 -0.1000         6       3.54   \n\n        sell_price  valid_trans_kpi  buy_count  flag_trans_valid     stock  \\\n0            3.666              0.5          1              True  SH600027   \n1            3.580              1.0          1              True  SH600027   \n2            3.520              0.5          1              True  SH600027   \n3            3.442              0.5          1              True  SH600027   \n4            3.580              1.0          1              True  SH600027   \n...            ...              ...        ...               ...       ...   \n498115       3.560              1.0          1              True  SH603993   \n498116       3.560              1.0          1              True  SH603993   \n498117       3.484              0.5          1              True  SH603993   \n498118       3.446              0.5          1              True  SH603993   \n498119       3.420              0.5          1              True  SH603993   \n\n        EvalT  \n0         250  \n1         250  \n2         250  \n3         250  \n4         250  \n...       ...  \n498115   5250  \n498116   5250  \n498117   5250  \n498118   5250  \n498119   5250  \n\n[498120 rows x 12 columns]",
      "text/html": "<div>\n<style scoped>\n    .dataframe tbody tr th:only-of-type {\n        vertical-align: middle;\n    }\n\n    .dataframe tbody tr th {\n        vertical-align: top;\n    }\n\n    .dataframe thead th {\n        text-align: right;\n    }\n</style>\n<table border=\"1\" class=\"dataframe\">\n  <thead>\n    <tr style=\"text-align: right;\">\n      <th></th>\n      <th>trans_id</th>\n      <th>trans_start</th>\n      <th>trans_end</th>\n      <th>reward</th>\n      <th>duration</th>\n      <th>buy_price</th>\n      <th>sell_price</th>\n      <th>valid_trans_kpi</th>\n      <th>buy_count</th>\n      <th>flag_trans_valid</th>\n      <th>stock</th>\n      <th>EvalT</th>\n    </tr>\n  </thead>\n  <tbody>\n    <tr>\n      <th>0</th>\n      <td>SH600027_T1</td>\n      <td>20200103</td>\n      <td>20200110</td>\n      <td>-0.1000</td>\n      <td>6</td>\n      <td>3.70</td>\n      <td>3.666</td>\n      <td>0.5</td>\n      <td>1</td>\n      <td>True</td>\n      <td>SH600027</td>\n      <td>250</td>\n    </tr>\n    <tr>\n      <th>1</th>\n      <td>SH600027_T10</td>\n      <td>20200116</td>\n      <td>20200123</td>\n      <td>-0.0131</td>\n      <td>6</td>\n      <td>3.62</td>\n      <td>3.580</td>\n      <td>1.0</td>\n      <td>1</td>\n      <td>True</td>\n      <td>SH600027</td>\n      <td>250</td>\n    </tr>\n    <tr>\n      <th>2</th>\n      <td>SH600027_T11</td>\n      <td>20200117</td>\n      <td>20200203</td>\n      <td>-0.1000</td>\n      <td>6</td>\n      <td>3.60</td>\n      <td>3.520</td>\n      <td>0.5</td>\n      <td>1</td>\n      <td>True</td>\n      <td>SH600027</td>\n      <td>250</td>\n    </tr>\n    <tr>\n      <th>3</th>\n      <td>SH600027_T12</td>\n      <td>20200120</td>\n      <td>20200204</td>\n      <td>-0.1000</td>\n      <td>6</td>\n      <td>3.61</td>\n      <td>3.442</td>\n      <td>0.5</td>\n      <td>1</td>\n      <td>True</td>\n      <td>SH600027</td>\n      <td>250</td>\n    </tr>\n    <tr>\n      <th>4</th>\n      <td>SH600027_T13</td>\n      <td>20200121</td>\n      <td>20200123</td>\n      <td>-0.0104</td>\n      <td>3</td>\n      <td>3.61</td>\n      <td>3.580</td>\n      <td>1.0</td>\n      <td>1</td>\n      <td>True</td>\n      <td>SH600027</td>\n      <td>250</td>\n    </tr>\n    <tr>\n      <th>...</th>\n      <td>...</td>\n      <td>...</td>\n      <td>...</td>\n      <td>...</td>\n      <td>...</td>\n      <td>...</td>\n      <td>...</td>\n      <td>...</td>\n      <td>...</td>\n      <td>...</td>\n      <td>...</td>\n      <td>...</td>\n    </tr>\n    <tr>\n      <th>498115</th>\n      <td>SH603993_T1886</td>\n      <td>20200515</td>\n      <td>20200519</td>\n      <td>0.0179</td>\n      <td>3</td>\n      <td>3.49</td>\n      <td>3.560</td>\n      <td>1.0</td>\n      <td>1</td>\n      <td>True</td>\n      <td>SH603993</td>\n      <td>5250</td>\n    </tr>\n    <tr>\n      <th>498116</th>\n      <td>SH603993_T1887</td>\n      <td>20200518</td>\n      <td>20200519</td>\n      <td>0.0007</td>\n      <td>2</td>\n      <td>3.55</td>\n      <td>3.560</td>\n      <td>1.0</td>\n      <td>1</td>\n      <td>True</td>\n      <td>SH603993</td>\n      <td>5250</td>\n    </tr>\n    <tr>\n      <th>498117</th>\n      <td>SH603993_T1888</td>\n      <td>20200519</td>\n      <td>20200526</td>\n      <td>-0.1000</td>\n      <td>6</td>\n      <td>3.56</td>\n      <td>3.484</td>\n      <td>0.5</td>\n      <td>1</td>\n      <td>True</td>\n      <td>SH603993</td>\n      <td>5250</td>\n    </tr>\n    <tr>\n      <th>498118</th>\n      <td>SH603993_T1889</td>\n      <td>20200520</td>\n      <td>20200527</td>\n      <td>-0.1000</td>\n      <td>6</td>\n      <td>3.59</td>\n      <td>3.446</td>\n      <td>0.5</td>\n      <td>1</td>\n      <td>True</td>\n      <td>SH603993</td>\n      <td>5250</td>\n    </tr>\n    <tr>\n      <th>498119</th>\n      <td>SH603993_T1890</td>\n      <td>20200521</td>\n      <td>20200528</td>\n      <td>-0.1000</td>\n      <td>6</td>\n      <td>3.54</td>\n      <td>3.420</td>\n      <td>0.5</td>\n      <td>1</td>\n      <td>True</td>\n      <td>SH603993</td>\n      <td>5250</td>\n    </tr>\n  </tbody>\n</table>\n<p>498120 rows × 12 columns</p>\n</div>"
     },
     "metadata": {},
     "output_type": "execute_result",
     "execution_count": 11
    }
   ],
   "source": [
    "i1.df\n",
    "#((i1.df[\"sell_price\"]-i1.df[\"buy_price\"])/i1.df[\"buy_price\"]).mean()"
   ],
   "metadata": {
    "collapsed": false,
    "pycharm": {
     "name": "#%%\n",
     "is_executing": false
    }
   }
  },
  {
   "cell_type": "code",
   "execution_count": 13,
   "outputs": [
    {
     "data": {
      "text/plain": "-0.02877329853466156"
     },
     "metadata": {},
     "output_type": "execute_result",
     "execution_count": 13
    }
   ],
   "source": [
    "dft=i1.df[i1.df[\"valid_trans_kpi\"]!=1.0]\n",
    "\n",
    "\n",
    "((dft[\"sell_price\"]-dft[\"buy_price\"])/dft[\"buy_price\"]).mean()"
   ],
   "metadata": {
    "collapsed": false,
    "pycharm": {
     "name": "#%%\n",
     "is_executing": false
    }
   }
  },
  {
   "cell_type": "code",
   "execution_count": 14,
   "outputs": [],
   "source": [
    "i1.df.loc[i1.df[\"valid_trans_kpi\"]!=1,\"reward\"]=-0.03"
   ],
   "metadata": {
    "collapsed": false,
    "pycharm": {
     "name": "#%%\n",
     "is_executing": false
    }
   }
  },
  {
   "cell_type": "code",
   "execution_count": 17,
   "outputs": [],
   "source": [
    "import pandas as pd\n",
    "i1.df[[\"EvalT\",\"reward\"]].groupby([\"EvalT\"])[\"reward\"].sum()\n",
    "dfr = i1.df.groupby([\"EvalT\"]).\\\n",
    "            agg(reward=pd.NamedAgg(column=\"reward\", aggfunc=\"sum\"),\n",
    "                num_trans=pd.NamedAgg(column=\"trans_id\",aggfunc=\"count\")\n",
    "                )\n"
   ],
   "metadata": {
    "collapsed": false,
    "pycharm": {
     "name": "#%%\n",
     "is_executing": false
    }
   }
  },
  {
   "cell_type": "code",
   "execution_count": 18,
   "outputs": [
    {
     "data": {
      "text/plain": "        reward  num_trans\nEvalT                    \n250    22.1588      23720\n500    21.2524      23720\n750    21.4628      23720\n1000   21.7563      23720\n1250   21.2251      23720\n1500   23.5611      23720\n1750   21.0534      23720\n2000   21.0917      23720\n2250   20.5355      23720\n2500   19.9152      23720\n2750   19.4568      23720\n3000   23.9099      23720\n3250   20.6319      23720\n3500   23.0736      23720\n3750   20.0842      23720\n4000   19.7440      23720\n4250   21.2753      23720\n4500   20.9513      23720\n4750   20.7456      23720\n5000   20.8449      23720\n5250   19.6317      23720",
      "text/html": "<div>\n<style scoped>\n    .dataframe tbody tr th:only-of-type {\n        vertical-align: middle;\n    }\n\n    .dataframe tbody tr th {\n        vertical-align: top;\n    }\n\n    .dataframe thead th {\n        text-align: right;\n    }\n</style>\n<table border=\"1\" class=\"dataframe\">\n  <thead>\n    <tr style=\"text-align: right;\">\n      <th></th>\n      <th>reward</th>\n      <th>num_trans</th>\n    </tr>\n    <tr>\n      <th>EvalT</th>\n      <th></th>\n      <th></th>\n    </tr>\n  </thead>\n  <tbody>\n    <tr>\n      <th>250</th>\n      <td>22.1588</td>\n      <td>23720</td>\n    </tr>\n    <tr>\n      <th>500</th>\n      <td>21.2524</td>\n      <td>23720</td>\n    </tr>\n    <tr>\n      <th>750</th>\n      <td>21.4628</td>\n      <td>23720</td>\n    </tr>\n    <tr>\n      <th>1000</th>\n      <td>21.7563</td>\n      <td>23720</td>\n    </tr>\n    <tr>\n      <th>1250</th>\n      <td>21.2251</td>\n      <td>23720</td>\n    </tr>\n    <tr>\n      <th>1500</th>\n      <td>23.5611</td>\n      <td>23720</td>\n    </tr>\n    <tr>\n      <th>1750</th>\n      <td>21.0534</td>\n      <td>23720</td>\n    </tr>\n    <tr>\n      <th>2000</th>\n      <td>21.0917</td>\n      <td>23720</td>\n    </tr>\n    <tr>\n      <th>2250</th>\n      <td>20.5355</td>\n      <td>23720</td>\n    </tr>\n    <tr>\n      <th>2500</th>\n      <td>19.9152</td>\n      <td>23720</td>\n    </tr>\n    <tr>\n      <th>2750</th>\n      <td>19.4568</td>\n      <td>23720</td>\n    </tr>\n    <tr>\n      <th>3000</th>\n      <td>23.9099</td>\n      <td>23720</td>\n    </tr>\n    <tr>\n      <th>3250</th>\n      <td>20.6319</td>\n      <td>23720</td>\n    </tr>\n    <tr>\n      <th>3500</th>\n      <td>23.0736</td>\n      <td>23720</td>\n    </tr>\n    <tr>\n      <th>3750</th>\n      <td>20.0842</td>\n      <td>23720</td>\n    </tr>\n    <tr>\n      <th>4000</th>\n      <td>19.7440</td>\n      <td>23720</td>\n    </tr>\n    <tr>\n      <th>4250</th>\n      <td>21.2753</td>\n      <td>23720</td>\n    </tr>\n    <tr>\n      <th>4500</th>\n      <td>20.9513</td>\n      <td>23720</td>\n    </tr>\n    <tr>\n      <th>4750</th>\n      <td>20.7456</td>\n      <td>23720</td>\n    </tr>\n    <tr>\n      <th>5000</th>\n      <td>20.8449</td>\n      <td>23720</td>\n    </tr>\n    <tr>\n      <th>5250</th>\n      <td>19.6317</td>\n      <td>23720</td>\n    </tr>\n  </tbody>\n</table>\n</div>"
     },
     "metadata": {},
     "output_type": "execute_result",
     "execution_count": 18
    }
   ],
   "source": [
    "dfr\n",
    "\n"
   ],
   "metadata": {
    "collapsed": false,
    "pycharm": {
     "name": "#%%\n",
     "is_executing": false
    }
   }
  }
 ],
 "metadata": {
  "kernelspec": {
   "display_name": "Python 3",
   "language": "python",
   "name": "python3"
  },
  "language_info": {
   "codemirror_mode": {
    "name": "ipython",
    "version": 2
   },
   "file_extension": ".py",
   "mimetype": "text/x-python",
   "name": "python",
   "nbconvert_exporter": "python",
   "pygments_lexer": "ipython2",
   "version": "2.7.6"
  },
  "pycharm": {
   "stem_cell": {
    "cell_type": "raw",
    "source": [],
    "metadata": {
     "collapsed": false
    }
   }
  }
 },
 "nbformat": 4,
 "nbformat_minor": 0
}