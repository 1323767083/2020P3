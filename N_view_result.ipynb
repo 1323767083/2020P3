{
 "cells": [
  {
   "cell_type": "code",
   "execution_count": null,
   "metadata": {
    "collapsed": true,
    "pycharm": {
     "is_executing": true,
     "name": "#%%\n"
    }
   },
   "outputs": [],
   "source": [
    "import os,re\n",
    "HostName=os.uname()[1]\n",
    "print (HostName)\n",
    "\n",
    "import vresult_data_com as vrc\n",
    "import vresult_data_reward as vdr\n",
    "import config as sc\n",
    "#system_name=\"Sell300\"\n",
    "system_name=\"Buy300\"\n",
    "process_name=\"EvalAgent_0\"\n",
    "Lstock, LEvalT, LYM, lgc=vrc.get_addon_setting(system_name,process_name)\n",
    "i0=vdr.ana_reward(system_name, process_name,Lstock, LEvalT, LYM,lgc)\n",
    "process_name=\"EvalAgent_2\"\n",
    "i1=vdr.ana_reward(system_name, process_name,Lstock, LEvalT, LYM,lgc)"
   ]
  },
  {
   "cell_type": "code",
   "execution_count": null,
   "outputs": [],
   "source": [
    "%matplotlib inline\n",
    "import matplotlib\n",
    "import matplotlib.pyplot as plt\n",
    "plt.rcParams[\"figure.figsize\"] = (20,10)\n",
    "fig=plt.figure()\n",
    "i0.show_reward(fig, 250,[],[])\n",
    "plt.show()"
   ],
   "metadata": {
    "collapsed": false,
    "pycharm": {
     "name": "#%%\n",
     "is_executing": false
    }
   }
  },
  {
   "cell_type": "code",
   "execution_count": null,
   "outputs": [],
   "source": [
    "%matplotlib inline\n",
    "import matplotlib\n",
    "import matplotlib.pyplot as plt\n",
    "plt.rcParams[\"figure.figsize\"] = (20,10)\n",
    "fig=plt.figure()\n",
    "i1.show_reward(fig, 250,[],[])\n",
    "plt.show()"
   ],
   "metadata": {
    "collapsed": false,
    "pycharm": {
     "name": "#%%\n",
     "is_executing": false
    }
   }
  },
  {
   "cell_type": "code",
   "execution_count": null,
   "outputs": [],
   "source": [
    "%matplotlib inline\n",
    "import matplotlib\n",
    "import matplotlib.pyplot as plt\n",
    "plt.rcParams[\"figure.figsize\"] = (20,10)\n",
    "fig=plt.figure()\n",
    "fig.add_subplot(211)\n",
    "fig.add_subplot(212)\n",
    "allaxes = fig.get_axes()\n",
    "i0.plot_reward_count(allaxes[0], 250)\n",
    "i1.plot_reward_count(allaxes[1], 250)\n",
    "plt.show()\n"
   ],
   "metadata": {
    "collapsed": false,
    "pycharm": {
     "name": "#%%\n",
     "is_executing": true
    }
   }
  },
  {
   "cell_type": "code",
   "execution_count": 15,
   "outputs": [
    {
     "name": "stdout",
     "text": [
      "[250, 500, 750, 1000, 1250, 1500, 1750, 2000, 2250, 2500, 2750, 3000, 3250, 3500, 3750, 4000, 4250, 4500, 4750, 5000, 5250, 5500, 5750, 6000, 6250, 6500, 6750, 7000, 7250, 7500, 7750]\n"
     ],
     "output_type": "stream"
    }
   ],
   "source": [
    "#try\n",
    "print(LEvalT)"
   ],
   "metadata": {
    "collapsed": false,
    "pycharm": {
     "name": "#%%\n",
     "is_executing": false
    }
   }
  }
 ],
 "metadata": {
  "kernelspec": {
   "name": "python3",
   "language": "python",
   "display_name": "Python 3"
  },
  "language_info": {
   "codemirror_mode": {
    "name": "ipython",
    "version": 2
   },
   "file_extension": ".py",
   "mimetype": "text/x-python",
   "name": "python",
   "nbconvert_exporter": "python",
   "pygments_lexer": "ipython2",
   "version": "2.7.6"
  },
  "pycharm": {
   "stem_cell": {
    "cell_type": "raw",
    "source": [],
    "metadata": {
     "collapsed": false
    }
   }
  }
 },
 "nbformat": 4,
 "nbformat_minor": 1
}