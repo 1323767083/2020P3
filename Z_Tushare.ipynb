{
 "cells": [
  {
   "cell_type": "code",
   "execution_count": 1,
   "metadata": {},
   "outputs": [
    {
     "name": "stdout",
     "output_type": "stream",
     "text": [
      "1.2.62\n"
     ]
    }
   ],
   "source": [
    "import tushare as ts\n",
    "print (ts.__version__)\n",
    "ts.set_token('87b769832ea19e30b1f76de81c85a22c9bf5e88b7bf15678c2bb2e07')\n",
    "pro = ts.pro_api()"
   ]
  },
  {
   "cell_type": "code",
   "execution_count": 8,
   "metadata": {},
   "outputs": [
    {
     "data": {
      "text/html": [
       "<div>\n",
       "<style scoped>\n",
       "    .dataframe tbody tr th:only-of-type {\n",
       "        vertical-align: middle;\n",
       "    }\n",
       "\n",
       "    .dataframe tbody tr th {\n",
       "        vertical-align: top;\n",
       "    }\n",
       "\n",
       "    .dataframe thead th {\n",
       "        text-align: right;\n",
       "    }\n",
       "</style>\n",
       "<table border=\"1\" class=\"dataframe\">\n",
       "  <thead>\n",
       "    <tr style=\"text-align: right;\">\n",
       "      <th></th>\n",
       "      <th>ts_code</th>\n",
       "      <th>name</th>\n",
       "      <th>market</th>\n",
       "      <th>publisher</th>\n",
       "      <th>category</th>\n",
       "      <th>base_date</th>\n",
       "      <th>base_point</th>\n",
       "      <th>list_date</th>\n",
       "    </tr>\n",
       "  </thead>\n",
       "  <tbody>\n",
       "    <tr>\n",
       "      <th>0</th>\n",
       "      <td>000905.SH</td>\n",
       "      <td>中证500</td>\n",
       "      <td>SSE</td>\n",
       "      <td>中证公司</td>\n",
       "      <td>规模指数</td>\n",
       "      <td>20041231</td>\n",
       "      <td>1000.0</td>\n",
       "      <td>20070115</td>\n",
       "    </tr>\n",
       "  </tbody>\n",
       "</table>\n",
       "</div>"
      ],
      "text/plain": [
       "     ts_code   name market publisher category base_date  base_point list_date\n",
       "0  000905.SH  中证500    SSE      中证公司     规模指数  20041231      1000.0  20070115"
      ]
     },
     "execution_count": 8,
     "metadata": {},
     "output_type": "execute_result"
    }
   ],
   "source": [
    "df = pro.index_basic( ts_code=\"000905.SH\")\n",
    "df"
   ]
  },
  {
   "cell_type": "code",
   "execution_count": 5,
   "metadata": {},
   "outputs": [
    {
     "data": {
      "text/html": [
       "<div>\n",
       "<style scoped>\n",
       "    .dataframe tbody tr th:only-of-type {\n",
       "        vertical-align: middle;\n",
       "    }\n",
       "\n",
       "    .dataframe tbody tr th {\n",
       "        vertical-align: top;\n",
       "    }\n",
       "\n",
       "    .dataframe thead th {\n",
       "        text-align: right;\n",
       "    }\n",
       "</style>\n",
       "<table border=\"1\" class=\"dataframe\">\n",
       "  <thead>\n",
       "    <tr style=\"text-align: right;\">\n",
       "      <th></th>\n",
       "      <th>ts_code</th>\n",
       "      <th>symbol</th>\n",
       "      <th>name</th>\n",
       "      <th>area</th>\n",
       "      <th>industry</th>\n",
       "      <th>market</th>\n",
       "      <th>list_date</th>\n",
       "    </tr>\n",
       "  </thead>\n",
       "  <tbody>\n",
       "  </tbody>\n",
       "</table>\n",
       "</div>"
      ],
      "text/plain": [
       "Empty DataFrame\n",
       "Columns: [ts_code, symbol, name, area, industry, market, list_date]\n",
       "Index: []"
      ]
     },
     "execution_count": 5,
     "metadata": {},
     "output_type": "execute_result"
    }
   ],
   "source": [
    "df=pro.stock_basic(market='SSE')\n"
   ]
  },
  {
   "cell_type": "code",
   "execution_count": 3,
   "metadata": {},
   "outputs": [],
   "source": [
    "df = pro.daily(ts_code='603712.SH', start_date='20180301', end_date='20180331')"
   ]
  },
  {
   "cell_type": "code",
   "execution_count": 9,
   "metadata": {},
   "outputs": [],
   "source": [
    "df = pro.index_daily(ts_code='000300.SH', start_date='20210301', end_date='20210304')"
   ]
  },
  {
   "cell_type": "code",
   "execution_count": 10,
   "metadata": {},
   "outputs": [
    {
     "data": {
      "text/html": [
       "<div>\n",
       "<style scoped>\n",
       "    .dataframe tbody tr th:only-of-type {\n",
       "        vertical-align: middle;\n",
       "    }\n",
       "\n",
       "    .dataframe tbody tr th {\n",
       "        vertical-align: top;\n",
       "    }\n",
       "\n",
       "    .dataframe thead th {\n",
       "        text-align: right;\n",
       "    }\n",
       "</style>\n",
       "<table border=\"1\" class=\"dataframe\">\n",
       "  <thead>\n",
       "    <tr style=\"text-align: right;\">\n",
       "      <th></th>\n",
       "      <th>ts_code</th>\n",
       "      <th>trade_date</th>\n",
       "      <th>close</th>\n",
       "      <th>open</th>\n",
       "      <th>high</th>\n",
       "      <th>low</th>\n",
       "      <th>pre_close</th>\n",
       "      <th>change</th>\n",
       "      <th>pct_chg</th>\n",
       "      <th>vol</th>\n",
       "      <th>amount</th>\n",
       "    </tr>\n",
       "  </thead>\n",
       "  <tbody>\n",
       "    <tr>\n",
       "      <th>0</th>\n",
       "      <td>000300.SH</td>\n",
       "      <td>20210304</td>\n",
       "      <td>5280.7058</td>\n",
       "      <td>5388.4785</td>\n",
       "      <td>5392.3725</td>\n",
       "      <td>5254.7771</td>\n",
       "      <td>5452.2125</td>\n",
       "      <td>-171.5067</td>\n",
       "      <td>-3.1456</td>\n",
       "      <td>212775211.0</td>\n",
       "      <td>384382457.0</td>\n",
       "    </tr>\n",
       "    <tr>\n",
       "      <th>1</th>\n",
       "      <td>000300.SH</td>\n",
       "      <td>20210303</td>\n",
       "      <td>5452.2125</td>\n",
       "      <td>5327.3467</td>\n",
       "      <td>5452.3960</td>\n",
       "      <td>5316.4809</td>\n",
       "      <td>5349.6301</td>\n",
       "      <td>102.5824</td>\n",
       "      <td>1.9176</td>\n",
       "      <td>194709054.0</td>\n",
       "      <td>337610313.6</td>\n",
       "    </tr>\n",
       "    <tr>\n",
       "      <th>2</th>\n",
       "      <td>000300.SH</td>\n",
       "      <td>20210302</td>\n",
       "      <td>5349.6301</td>\n",
       "      <td>5453.2847</td>\n",
       "      <td>5454.9687</td>\n",
       "      <td>5305.0545</td>\n",
       "      <td>5418.7837</td>\n",
       "      <td>-69.1536</td>\n",
       "      <td>-1.2762</td>\n",
       "      <td>196511115.0</td>\n",
       "      <td>376444604.7</td>\n",
       "    </tr>\n",
       "    <tr>\n",
       "      <th>3</th>\n",
       "      <td>000300.SH</td>\n",
       "      <td>20210301</td>\n",
       "      <td>5418.7837</td>\n",
       "      <td>5389.2499</td>\n",
       "      <td>5421.5550</td>\n",
       "      <td>5345.9449</td>\n",
       "      <td>5336.7609</td>\n",
       "      <td>82.0228</td>\n",
       "      <td>1.5369</td>\n",
       "      <td>177463523.0</td>\n",
       "      <td>358146546.0</td>\n",
       "    </tr>\n",
       "  </tbody>\n",
       "</table>\n",
       "</div>"
      ],
      "text/plain": [
       "     ts_code trade_date      close       open       high        low  \\\n",
       "0  000300.SH   20210304  5280.7058  5388.4785  5392.3725  5254.7771   \n",
       "1  000300.SH   20210303  5452.2125  5327.3467  5452.3960  5316.4809   \n",
       "2  000300.SH   20210302  5349.6301  5453.2847  5454.9687  5305.0545   \n",
       "3  000300.SH   20210301  5418.7837  5389.2499  5421.5550  5345.9449   \n",
       "\n",
       "   pre_close    change  pct_chg          vol       amount  \n",
       "0  5452.2125 -171.5067  -3.1456  212775211.0  384382457.0  \n",
       "1  5349.6301  102.5824   1.9176  194709054.0  337610313.6  \n",
       "2  5418.7837  -69.1536  -1.2762  196511115.0  376444604.7  \n",
       "3  5336.7609   82.0228   1.5369  177463523.0  358146546.0  "
      ]
     },
     "execution_count": 10,
     "metadata": {},
     "output_type": "execute_result"
    }
   ],
   "source": [
    "df"
   ]
  },
  {
   "cell_type": "code",
   "execution_count": 12,
   "metadata": {},
   "outputs": [
    {
     "data": {
      "text/html": [
       "<div>\n",
       "<style scoped>\n",
       "    .dataframe tbody tr th:only-of-type {\n",
       "        vertical-align: middle;\n",
       "    }\n",
       "\n",
       "    .dataframe tbody tr th {\n",
       "        vertical-align: top;\n",
       "    }\n",
       "\n",
       "    .dataframe thead th {\n",
       "        text-align: right;\n",
       "    }\n",
       "</style>\n",
       "<table border=\"1\" class=\"dataframe\">\n",
       "  <thead>\n",
       "    <tr style=\"text-align: right;\">\n",
       "      <th></th>\n",
       "      <th>ts_code</th>\n",
       "      <th>trade_date</th>\n",
       "      <th>close</th>\n",
       "      <th>open</th>\n",
       "      <th>high</th>\n",
       "      <th>low</th>\n",
       "      <th>pre_close</th>\n",
       "      <th>change</th>\n",
       "      <th>pct_chg</th>\n",
       "      <th>vol</th>\n",
       "      <th>amount</th>\n",
       "    </tr>\n",
       "  </thead>\n",
       "  <tbody>\n",
       "    <tr>\n",
       "      <th>0</th>\n",
       "      <td>000905.SH</td>\n",
       "      <td>20210304</td>\n",
       "      <td>6401.9917</td>\n",
       "      <td>6482.7869</td>\n",
       "      <td>6485.1639</td>\n",
       "      <td>6371.7302</td>\n",
       "      <td>6524.7513</td>\n",
       "      <td>-122.7596</td>\n",
       "      <td>-1.8814</td>\n",
       "      <td>194334616.0</td>\n",
       "      <td>192657769.9</td>\n",
       "    </tr>\n",
       "    <tr>\n",
       "      <th>1</th>\n",
       "      <td>000905.SH</td>\n",
       "      <td>20210303</td>\n",
       "      <td>6524.7513</td>\n",
       "      <td>6426.0369</td>\n",
       "      <td>6528.2217</td>\n",
       "      <td>6420.2068</td>\n",
       "      <td>6433.3282</td>\n",
       "      <td>91.4231</td>\n",
       "      <td>1.4211</td>\n",
       "      <td>171017524.0</td>\n",
       "      <td>169667464.3</td>\n",
       "    </tr>\n",
       "    <tr>\n",
       "      <th>2</th>\n",
       "      <td>000905.SH</td>\n",
       "      <td>20210302</td>\n",
       "      <td>6433.3282</td>\n",
       "      <td>6514.0213</td>\n",
       "      <td>6514.0213</td>\n",
       "      <td>6386.4903</td>\n",
       "      <td>6488.4388</td>\n",
       "      <td>-55.1106</td>\n",
       "      <td>-0.8494</td>\n",
       "      <td>165877069.0</td>\n",
       "      <td>174025453.4</td>\n",
       "    </tr>\n",
       "    <tr>\n",
       "      <th>3</th>\n",
       "      <td>000905.SH</td>\n",
       "      <td>20210301</td>\n",
       "      <td>6488.4388</td>\n",
       "      <td>6407.1642</td>\n",
       "      <td>6491.9367</td>\n",
       "      <td>6404.8885</td>\n",
       "      <td>6364.3529</td>\n",
       "      <td>124.0859</td>\n",
       "      <td>1.9497</td>\n",
       "      <td>158608437.0</td>\n",
       "      <td>165792208.1</td>\n",
       "    </tr>\n",
       "  </tbody>\n",
       "</table>\n",
       "</div>"
      ],
      "text/plain": [
       "     ts_code trade_date      close       open       high        low  \\\n",
       "0  000905.SH   20210304  6401.9917  6482.7869  6485.1639  6371.7302   \n",
       "1  000905.SH   20210303  6524.7513  6426.0369  6528.2217  6420.2068   \n",
       "2  000905.SH   20210302  6433.3282  6514.0213  6514.0213  6386.4903   \n",
       "3  000905.SH   20210301  6488.4388  6407.1642  6491.9367  6404.8885   \n",
       "\n",
       "   pre_close    change  pct_chg          vol       amount  \n",
       "0  6524.7513 -122.7596  -1.8814  194334616.0  192657769.9  \n",
       "1  6433.3282   91.4231   1.4211  171017524.0  169667464.3  \n",
       "2  6488.4388  -55.1106  -0.8494  165877069.0  174025453.4  \n",
       "3  6364.3529  124.0859   1.9497  158608437.0  165792208.1  "
      ]
     },
     "execution_count": 12,
     "metadata": {},
     "output_type": "execute_result"
    }
   ],
   "source": [
    "df = pro.index_daily(ts_code='000905.SH', start_date='20210301', end_date='20210304')\n",
    "df"
   ]
  },
  {
   "cell_type": "markdown",
   "metadata": {},
   "source": [
    "sh000300,2021-03-01,5389.2500,5421.5550,5345.9450,5418.7840,17746352000,358146539520.00,0,0,1\n",
    "\n",
    "000300.SH\t20210301\t5418.7837\t5389.2499\t5421.5550\t5345.9449\t5336.7609\t82.0228\t1.5369\t177463523.0\t358146546.0\n",
    "\n",
    "sh000300,2021-03-01,5389.2499,5421.5550,5345.9449,5418.7837,17746352300,358146546.0\n",
    "\n",
    "\n",
    "000300.SH\t20210302\t5349.6301\t5453.2847\t5454.9687\t5305.0545\t5418.7837\t-69.1536\t-1.2762\t196511115.0\t376444604.7\n",
    "\n",
    "sh000300,2021-03-02,5453.2847,5454.9687,5305.0545,5349.6301,19651111500,376444604700.00,0,0,1\n",
    "\n",
    "\n",
    "000905.SH\t20210302\t6433.3282\t6514.0213\t6514.0213\t6386.4903\t6488.4388\t-55.1106\t-0.8494\t165877069.0\t174025453.4\n",
    "sh000905,2021-03-02,6514.0213,6514.0213,6386.4903,6433.3282,16587706900,174025453400.00,0,0,1\n",
    "\n",
    "\n",
    "sh000300,2021-03-02,5453.2847,5454.9687,5305.0545,5349.6301,19651111500,376444604700.00,0,0,1\n",
    "sh000905,2021-03-02,6514.0213,6514.0213,6386.4903,6433.3282,16587706900,174025453400.00,0,0,1"
   ]
  }
 ],
 "metadata": {
  "kernelspec": {
   "display_name": "Python 3",
   "language": "python",
   "name": "python3"
  },
  "language_info": {
   "codemirror_mode": {
    "name": "ipython",
    "version": 3
   },
   "file_extension": ".py",
   "mimetype": "text/x-python",
   "name": "python",
   "nbconvert_exporter": "python",
   "pygments_lexer": "ipython3",
   "version": "3.7.7"
  }
 },
 "nbformat": 4,
 "nbformat_minor": 4
}
