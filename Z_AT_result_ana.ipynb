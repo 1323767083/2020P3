{
 "cells": [
  {
   "cell_type": "code",
   "execution_count": 58,
   "metadata": {},
   "outputs": [
    {
     "name": "stdout",
     "output_type": "stream",
     "text": [
      "\n",
      "::::::::::::::\n",
      "/home/rdchujf/n_workspace/AT/p1/s2/e1/202012/20201229/Report.txt\n",
      "::::::::::::::\n",
      "Date: 20201229 Cash After Closing: 264022.4492999995 Market Value: 734024.2212240001\n",
      " Num of Stock could bought tomorrow: 5\n",
      "Today Bought 13 stock:\n",
      "    SH600507,SZ000830,SZ300618,SH601975,SZ000758,SZ300009,SZ000027,SH600038,SZ002085,SZ000629,SH601000,SZ000718,SH603927\n",
      "Today Sold with Earn 2 stock:\n",
      "    SH601598:627.41,SZ300182:283.86\n",
      "Today Sold with Loss 3 stock:\n",
      "    SH600704:-591.95,SH603379:-1926.95,SZ000813:-7617.50\n",
      "Today Sold with Balance 0 stock:\n",
      "    \n",
      "Today 0 Action with Fail :\n",
      "\n",
      "Today Error holding without sell action 2 :\n",
      "    SH600006 20201228 start holding with no action\n",
      "    SH603317 20201202 start holding with no action\n",
      "\n",
      "Tommorow to Buy 5\n",
      "    SZ000826,SZ000553,SH600546,SZ300418,SZ000400\n",
      "Tommorow to Sell 13\n",
      "    SH600507,SZ000830,SH600006,SZ300618,SH601975,SZ000758,SZ300009,SZ000027,SH600038,SZ002085,SZ000629,SH601000,SZ000718\n",
      "Tommorow not_buy_due_limit 14\n",
      "    SZ300296\n",
      "    SZ000750\n",
      "    SZ002131\n",
      "    SH603077\n",
      "    SZ002051\n",
      "    SH600765\n",
      "    SZ002382\n",
      "    SH601615\n",
      "    SZ002948\n",
      "    SZ002233\n",
      "    SZ000050\n",
      "    SH601928\n",
      "    SZ002056\n",
      "    SZ300058\n",
      "Tommorow multibuy(not sell due to multibuy) 2\n",
      "    SH603317\n",
      "    SH603927\n"
     ]
    }
   ],
   "source": [
    "%%bash\n",
    "more /home/rdchujf/n_workspace/AT/p1/s2/e1/202012/20201229/Report.txt"
   ]
  },
  {
   "cell_type": "code",
   "execution_count": 57,
   "metadata": {},
   "outputs": [
    {
     "name": "stdout",
     "output_type": "stream",
     "text": [
      "AT_account_afterday_backup.csv\n",
      "AT_AccountDetail_backup.csv\n",
      "AT_Action2exe.csv\n",
      "AT_Action2exeDone.csv\n",
      "AT_StepResult.csv\n",
      "Report.txt\n"
     ]
    }
   ],
   "source": [
    "%%bash\n",
    "ls /home/rdchujf/n_workspace/AT/p1/s2/e1/202012/20201228"
   ]
  },
  {
   "cell_type": "code",
   "execution_count": 59,
   "metadata": {},
   "outputs": [
    {
     "data": {
      "text/html": [
       "<div>\n",
       "<style scoped>\n",
       "    .dataframe tbody tr th:only-of-type {\n",
       "        vertical-align: middle;\n",
       "    }\n",
       "\n",
       "    .dataframe tbody tr th {\n",
       "        vertical-align: top;\n",
       "    }\n",
       "\n",
       "    .dataframe thead th {\n",
       "        text-align: right;\n",
       "    }\n",
       "</style>\n",
       "<table border=\"1\" class=\"dataframe\">\n",
       "  <thead>\n",
       "    <tr style=\"text-align: right;\">\n",
       "      <th></th>\n",
       "      <th>Stock</th>\n",
       "      <th>TransIDI</th>\n",
       "      <th>Holding_Gu</th>\n",
       "      <th>Holding_Invest</th>\n",
       "      <th>Holding_HRatio</th>\n",
       "      <th>Holding_NPrice</th>\n",
       "      <th>Buy_Times</th>\n",
       "      <th>HoldingStartDateI</th>\n",
       "      <th>AfterClosing_HFQRatio</th>\n",
       "      <th>AfterClosing_NPrice</th>\n",
       "      <th>Tradable_flag</th>\n",
       "      <th>Buy_Invest</th>\n",
       "      <th>Sell_Return</th>\n",
       "      <th>Sell_Earn</th>\n",
       "      <th>Tinpai_huaizhang</th>\n",
       "      <th>Action</th>\n",
       "    </tr>\n",
       "  </thead>\n",
       "  <tbody>\n",
       "    <tr>\n",
       "      <th>208</th>\n",
       "      <td>SZ000813</td>\n",
       "      <td>0</td>\n",
       "      <td>10200</td>\n",
       "      <td>49586.8716</td>\n",
       "      <td>4.0301</td>\n",
       "      <td>0.0</td>\n",
       "      <td>1</td>\n",
       "      <td>20201228</td>\n",
       "      <td>4.0301</td>\n",
       "      <td>4.37004</td>\n",
       "      <td>True</td>\n",
       "      <td>0.0</td>\n",
       "      <td>0.0</td>\n",
       "      <td>0.0</td>\n",
       "      <td>0.0</td>\n",
       "      <td>-1</td>\n",
       "    </tr>\n",
       "  </tbody>\n",
       "</table>\n",
       "</div>"
      ],
      "text/plain": [
       "        Stock  TransIDI  Holding_Gu  Holding_Invest  Holding_HRatio  \\\n",
       "208  SZ000813         0       10200      49586.8716          4.0301   \n",
       "\n",
       "     Holding_NPrice  Buy_Times  HoldingStartDateI  AfterClosing_HFQRatio  \\\n",
       "208             0.0          1           20201228                 4.0301   \n",
       "\n",
       "     AfterClosing_NPrice  Tradable_flag  Buy_Invest  Sell_Return  Sell_Earn  \\\n",
       "208              4.37004           True         0.0          0.0        0.0   \n",
       "\n",
       "     Tinpai_huaizhang  Action  \n",
       "208               0.0      -1  "
      ]
     },
     "execution_count": 59,
     "metadata": {},
     "output_type": "execute_result"
    }
   ],
   "source": [
    "import pandas as pd\n",
    "fnwp=\"/home/rdchujf/n_workspace/AT/p1/s2/e1/202012/20201228/AT_account_afterday_backup.csv\"\n",
    "df=pd.read_csv(fnwp)\n",
    "df[df[\"Stock\"]==\"SZ000813\"]"
   ]
  },
  {
   "cell_type": "code",
   "execution_count": 60,
   "metadata": {},
   "outputs": [
    {
     "data": {
      "text/html": [
       "<div>\n",
       "<style scoped>\n",
       "    .dataframe tbody tr th:only-of-type {\n",
       "        vertical-align: middle;\n",
       "    }\n",
       "\n",
       "    .dataframe tbody tr th {\n",
       "        vertical-align: top;\n",
       "    }\n",
       "\n",
       "    .dataframe thead th {\n",
       "        text-align: right;\n",
       "    }\n",
       "</style>\n",
       "<table border=\"1\" class=\"dataframe\">\n",
       "  <thead>\n",
       "    <tr style=\"text-align: right;\">\n",
       "      <th></th>\n",
       "      <th>Stock</th>\n",
       "      <th>Action</th>\n",
       "      <th>Action_Result</th>\n",
       "      <th>Buy_Gu</th>\n",
       "      <th>Buy_NPrice</th>\n",
       "      <th>Buy_Invest</th>\n",
       "      <th>Sell_Gu</th>\n",
       "      <th>Sell_NPrice</th>\n",
       "      <th>Sell_Return</th>\n",
       "    </tr>\n",
       "  </thead>\n",
       "  <tbody>\n",
       "    <tr>\n",
       "      <th>18</th>\n",
       "      <td>SZ000813</td>\n",
       "      <td>Buy</td>\n",
       "      <td>Success</td>\n",
       "      <td>10200</td>\n",
       "      <td>4.86</td>\n",
       "      <td>49586.8716</td>\n",
       "      <td>0</td>\n",
       "      <td>0.0</td>\n",
       "      <td>0.0</td>\n",
       "    </tr>\n",
       "  </tbody>\n",
       "</table>\n",
       "</div>"
      ],
      "text/plain": [
       "       Stock Action Action_Result  Buy_Gu  Buy_NPrice  Buy_Invest  Sell_Gu  \\\n",
       "18  SZ000813    Buy       Success   10200        4.86  49586.8716        0   \n",
       "\n",
       "    Sell_NPrice  Sell_Return  \n",
       "18          0.0          0.0  "
      ]
     },
     "execution_count": 60,
     "metadata": {},
     "output_type": "execute_result"
    }
   ],
   "source": [
    "fnwp=\"/home/rdchujf/n_workspace/AT/p1/s2/e1/202012/20201228/AT_StepResult.csv\"\n",
    "dfar=pd.read_csv(fnwp)\n",
    "dfar[dfar[\"Stock\"]==\"SZ000813\"]"
   ]
  },
  {
   "cell_type": "code",
   "execution_count": 61,
   "metadata": {},
   "outputs": [
    {
     "data": {
      "text/html": [
       "<div>\n",
       "<style scoped>\n",
       "    .dataframe tbody tr th:only-of-type {\n",
       "        vertical-align: middle;\n",
       "    }\n",
       "\n",
       "    .dataframe tbody tr th {\n",
       "        vertical-align: top;\n",
       "    }\n",
       "\n",
       "    .dataframe thead th {\n",
       "        text-align: right;\n",
       "    }\n",
       "</style>\n",
       "<table border=\"1\" class=\"dataframe\">\n",
       "  <thead>\n",
       "    <tr style=\"text-align: right;\">\n",
       "      <th></th>\n",
       "      <th>Stock</th>\n",
       "      <th>Action</th>\n",
       "      <th>Action_Result</th>\n",
       "      <th>Buy_Gu</th>\n",
       "      <th>Buy_NPrice</th>\n",
       "      <th>Buy_Invest</th>\n",
       "      <th>Sell_Gu</th>\n",
       "      <th>Sell_NPrice</th>\n",
       "      <th>Sell_Return</th>\n",
       "    </tr>\n",
       "  </thead>\n",
       "  <tbody>\n",
       "    <tr>\n",
       "      <th>17</th>\n",
       "      <td>SZ000813</td>\n",
       "      <td>Sell</td>\n",
       "      <td>Success</td>\n",
       "      <td>0</td>\n",
       "      <td>0.0</td>\n",
       "      <td>0.0</td>\n",
       "      <td>5100</td>\n",
       "      <td>4.16</td>\n",
       "      <td>21188.4192</td>\n",
       "    </tr>\n",
       "    <tr>\n",
       "      <th>18</th>\n",
       "      <td>SZ000813</td>\n",
       "      <td>Sell</td>\n",
       "      <td>Success</td>\n",
       "      <td>0</td>\n",
       "      <td>0.0</td>\n",
       "      <td>0.0</td>\n",
       "      <td>5100</td>\n",
       "      <td>4.08</td>\n",
       "      <td>20780.9496</td>\n",
       "    </tr>\n",
       "  </tbody>\n",
       "</table>\n",
       "</div>"
      ],
      "text/plain": [
       "       Stock Action Action_Result  Buy_Gu  Buy_NPrice  Buy_Invest  Sell_Gu  \\\n",
       "17  SZ000813   Sell       Success       0         0.0         0.0     5100   \n",
       "18  SZ000813   Sell       Success       0         0.0         0.0     5100   \n",
       "\n",
       "    Sell_NPrice  Sell_Return  \n",
       "17         4.16   21188.4192  \n",
       "18         4.08   20780.9496  "
      ]
     },
     "execution_count": 61,
     "metadata": {},
     "output_type": "execute_result"
    }
   ],
   "source": [
    "fnwp=\"/home/rdchujf/n_workspace/AT/p1/s2/e1/202012/20201229/AT_StepResult.csv\"\n",
    "dfar=pd.read_csv(fnwp)\n",
    "dfar[dfar[\"Stock\"]==\"SZ000813\"]"
   ]
  },
  {
   "cell_type": "code",
   "execution_count": 43,
   "metadata": {},
   "outputs": [
    {
     "data": {
      "text/plain": [
       "41969.3688"
      ]
     },
     "execution_count": 43,
     "metadata": {},
     "output_type": "execute_result"
    }
   ],
   "source": [
    "21188.4192+20780.9496"
   ]
  },
  {
   "cell_type": "code",
   "execution_count": 63,
   "metadata": {},
   "outputs": [],
   "source": [
    "from DBR_Reader import RawData,Raw_HFQ_Index\n",
    "i=RawData()\n",
    "flag,dfqz28,mess=i.get_qz_df_inteface(\"SZ000813\",20201228)\n",
    "flag,dfqz29,mess=i.get_qz_df_inteface(\"SZ000813\",20201229)\n",
    "j=Raw_HFQ_Index(\"HFQ\")\n",
    "flag,dfj,mess=j.get_lumpsum_df(\"SZ000813\")"
   ]
  },
  {
   "cell_type": "code",
   "execution_count": 64,
   "metadata": {},
   "outputs": [
    {
     "data": {
      "text/html": [
       "<div>\n",
       "<style scoped>\n",
       "    .dataframe tbody tr th:only-of-type {\n",
       "        vertical-align: middle;\n",
       "    }\n",
       "\n",
       "    .dataframe tbody tr th {\n",
       "        vertical-align: top;\n",
       "    }\n",
       "\n",
       "    .dataframe thead th {\n",
       "        text-align: right;\n",
       "    }\n",
       "</style>\n",
       "<table border=\"1\" class=\"dataframe\">\n",
       "  <thead>\n",
       "    <tr style=\"text-align: right;\">\n",
       "      <th></th>\n",
       "      <th>code</th>\n",
       "      <th>date</th>\n",
       "      <th>open_price</th>\n",
       "      <th>highest_price</th>\n",
       "      <th>lowest_price</th>\n",
       "      <th>close_price</th>\n",
       "      <th>amount_gu</th>\n",
       "      <th>amount_yuan</th>\n",
       "      <th>exchange_ratio_for_tradable_part</th>\n",
       "      <th>exchange_ratio_for_whole</th>\n",
       "      <th>coefficient_fq</th>\n",
       "    </tr>\n",
       "  </thead>\n",
       "  <tbody>\n",
       "    <tr>\n",
       "      <th>4983</th>\n",
       "      <td>SZ000813</td>\n",
       "      <td>20201228</td>\n",
       "      <td>4.870053</td>\n",
       "      <td>4.950051</td>\n",
       "      <td>4.370040</td>\n",
       "      <td>4.370040</td>\n",
       "      <td>54981800</td>\n",
       "      <td>243435712.0</td>\n",
       "      <td>0.024768</td>\n",
       "      <td>0.024529</td>\n",
       "      <td>4.0301</td>\n",
       "    </tr>\n",
       "    <tr>\n",
       "      <th>4984</th>\n",
       "      <td>SZ000813</td>\n",
       "      <td>20201229</td>\n",
       "      <td>3.960051</td>\n",
       "      <td>4.370040</td>\n",
       "      <td>3.960051</td>\n",
       "      <td>4.050048</td>\n",
       "      <td>132735736</td>\n",
       "      <td>544458496.0</td>\n",
       "      <td>0.059794</td>\n",
       "      <td>0.059218</td>\n",
       "      <td>4.0301</td>\n",
       "    </tr>\n",
       "  </tbody>\n",
       "</table>\n",
       "</div>"
      ],
      "text/plain": [
       "          code      date  open_price  highest_price  lowest_price  \\\n",
       "4983  SZ000813  20201228    4.870053       4.950051      4.370040   \n",
       "4984  SZ000813  20201229    3.960051       4.370040      3.960051   \n",
       "\n",
       "      close_price  amount_gu  amount_yuan  exchange_ratio_for_tradable_part  \\\n",
       "4983     4.370040   54981800  243435712.0                          0.024768   \n",
       "4984     4.050048  132735736  544458496.0                          0.059794   \n",
       "\n",
       "      exchange_ratio_for_whole  coefficient_fq  \n",
       "4983                  0.024529          4.0301  \n",
       "4984                  0.059218          4.0301  "
      ]
     },
     "execution_count": 64,
     "metadata": {},
     "output_type": "execute_result"
    }
   ],
   "source": [
    "dfj[\"open_price\"]=dfj[\"open_price\"]/dfj[\"coefficient_fq\"]\n",
    "dfj[\"highest_price\"]=dfj[\"highest_price\"]/dfj[\"coefficient_fq\"]\n",
    "dfj[\"lowest_price\"]=dfj[\"lowest_price\"]/dfj[\"coefficient_fq\"]\n",
    "dfj[\"close_price\"]=dfj[\"close_price\"]/dfj[\"coefficient_fq\"]\n",
    "a=dfj[(dfj[\"date\"]>=\"20201228\")&(dfj[\"date\"]<\"20201230\")]\n",
    "a"
   ]
  },
  {
   "cell_type": "code",
   "execution_count": 66,
   "metadata": {},
   "outputs": [
    {
     "data": {
      "text/plain": [
       "count    2935.000000\n",
       "mean        4.129506\n",
       "std         0.078496\n",
       "min         3.960000\n",
       "25%         4.080000\n",
       "50%         4.100000\n",
       "75%         4.150000\n",
       "max         4.370000\n",
       "Name: Price, dtype: float64"
      ]
     },
     "execution_count": 66,
     "metadata": {},
     "output_type": "execute_result"
    }
   ],
   "source": [
    "dfqz29[(dfqz29[\"Time\"]>=93000)&(dfqz29[\"Time\"]<93500)][\"Price\"].describe()"
   ]
  },
  {
   "cell_type": "code",
   "execution_count": 65,
   "metadata": {},
   "outputs": [
    {
     "data": {
      "text/plain": [
       "count    1668.000000\n",
       "mean        4.711055\n",
       "std         0.098372\n",
       "min         4.550000\n",
       "25%         4.610000\n",
       "50%         4.720000\n",
       "75%         4.790000\n",
       "max         4.950000\n",
       "Name: Price, dtype: float64"
      ]
     },
     "execution_count": 65,
     "metadata": {},
     "output_type": "execute_result"
    }
   ],
   "source": [
    "dfqz28[(dfqz28[\"Time\"]>=93000)&(dfqz28[\"Time\"]<93500)][\"Price\"].describe()"
   ]
  },
  {
   "cell_type": "code",
   "execution_count": 67,
   "metadata": {},
   "outputs": [
    {
     "name": "stdout",
     "output_type": "stream",
     "text": [
      "1.2.62\n",
      "      ts_code trade_date  adj_factor\n",
      "48  000813.SZ   20201230       3.775\n",
      "49  000813.SZ   20201229       3.775\n",
      "50  000813.SZ   20201228       3.775\n"
     ]
    }
   ],
   "source": [
    "import tushare as ts\n",
    "print (ts.__version__)\n",
    "ts.set_token('87b769832ea19e30b1f76de81c85a22c9bf5e88b7bf15678c2bb2e07')\n",
    "pro = ts.pro_api()\n",
    "\n",
    "dfhfqr = pro.adj_factor(ts_code='000813.SZ', trade_date='')\n",
    "print(dfhfqr[(dfhfqr[\"trade_date\"]>=str(20201228))&(dfhfqr[\"trade_date\"]<=str(20201230))])\n",
    "\n"
   ]
  },
  {
   "cell_type": "code",
   "execution_count": 68,
   "metadata": {},
   "outputs": [
    {
     "name": "stdout",
     "output_type": "stream",
     "text": [
      "     ts_code trade_date      open      high       low     close  pre_close  \\\n",
      "0  000813.SZ   20201230  4.000000  4.100000  3.800000  4.030013    15.2887   \n",
      "1  000813.SZ   20201229  3.960000  4.369987  3.960000  4.049987    16.4967   \n",
      "2  000813.SZ   20201228  4.870013  4.950013  4.369987  4.369987    18.3465   \n",
      "\n",
      "   change  pct_chg         vol      amount  \n",
      "0 -0.0754  -0.4932   856780.94  336559.529  \n",
      "1 -1.2080  -7.3227  1327357.36  544458.503  \n",
      "2 -1.8498 -10.0826   549818.00  243435.719  \n"
     ]
    }
   ],
   "source": [
    "dfhfq = ts.pro_bar(ts_code='000813.SZ', adj='hfq', start_date='20201228', end_date='20201230')\n",
    "dfhfq[\"open\"]=dfhfq[\"open\"]/3.775\n",
    "dfhfq[\"high\"]=dfhfq[\"high\"]/3.775\n",
    "dfhfq[\"low\"]=dfhfq[\"low\"]/3.775\n",
    "dfhfq[\"close\"]=dfhfq[\"close\"]/3.775\n",
    "print (dfhfq) "
   ]
  },
  {
   "cell_type": "code",
   "execution_count": null,
   "metadata": {},
   "outputs": [],
   "source": []
  }
 ],
 "metadata": {
  "kernelspec": {
   "display_name": "Python 3",
   "language": "python",
   "name": "python3"
  },
  "language_info": {
   "codemirror_mode": {
    "name": "ipython",
    "version": 3
   },
   "file_extension": ".py",
   "mimetype": "text/x-python",
   "name": "python",
   "nbconvert_exporter": "python",
   "pygments_lexer": "ipython3",
   "version": "3.7.7"
  },
  "pycharm": {
   "stem_cell": {
    "cell_type": "raw",
    "metadata": {
     "collapsed": false
    },
    "source": []
   }
  }
 },
 "nbformat": 4,
 "nbformat_minor": 1
}
